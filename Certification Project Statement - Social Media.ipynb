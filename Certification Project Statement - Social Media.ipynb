{
 "cells": [
  {
   "cell_type": "markdown",
   "metadata": {},
   "source": [
    "# Certification Project Statement - Social Media"
   ]
  },
  {
   "cell_type": "code",
   "execution_count": 436,
   "metadata": {},
   "outputs": [],
   "source": [
    "import numpy as np\n",
    "import pandas as pd"
   ]
  },
  {
   "cell_type": "code",
   "execution_count": 437,
   "metadata": {},
   "outputs": [],
   "source": [
    "df = pd.read_csv(\"C:\\\\Users\\\\SHIVA\\\\Downloads\\\\uv2towea1d\\\\OnlineNewsPopularity.csv\")"
   ]
  },
  {
   "cell_type": "code",
   "execution_count": 438,
   "metadata": {},
   "outputs": [
    {
     "data": {
      "text/html": [
       "<div>\n",
       "<style scoped>\n",
       "    .dataframe tbody tr th:only-of-type {\n",
       "        vertical-align: middle;\n",
       "    }\n",
       "\n",
       "    .dataframe tbody tr th {\n",
       "        vertical-align: top;\n",
       "    }\n",
       "\n",
       "    .dataframe thead th {\n",
       "        text-align: right;\n",
       "    }\n",
       "</style>\n",
       "<table border=\"1\" class=\"dataframe\">\n",
       "  <thead>\n",
       "    <tr style=\"text-align: right;\">\n",
       "      <th></th>\n",
       "      <th>url</th>\n",
       "      <th>timedelta</th>\n",
       "      <th>n_tokens_title</th>\n",
       "      <th>n_tokens_content</th>\n",
       "      <th>n_unique_tokens</th>\n",
       "      <th>n_non_stop_words</th>\n",
       "      <th>n_non_stop_unique_tokens</th>\n",
       "      <th>num_hrefs</th>\n",
       "      <th>num_self_hrefs</th>\n",
       "      <th>num_imgs</th>\n",
       "      <th>...</th>\n",
       "      <th>min_positive_polarity</th>\n",
       "      <th>max_positive_polarity</th>\n",
       "      <th>avg_negative_polarity</th>\n",
       "      <th>min_negative_polarity</th>\n",
       "      <th>max_negative_polarity</th>\n",
       "      <th>title_subjectivity</th>\n",
       "      <th>title_sentiment_polarity</th>\n",
       "      <th>abs_title_subjectivity</th>\n",
       "      <th>abs_title_sentiment_polarity</th>\n",
       "      <th>shares</th>\n",
       "    </tr>\n",
       "  </thead>\n",
       "  <tbody>\n",
       "    <tr>\n",
       "      <th>0</th>\n",
       "      <td>http://mashable.com/2013/01/07/amazon-instant-...</td>\n",
       "      <td>731.0</td>\n",
       "      <td>12.0</td>\n",
       "      <td>219.0</td>\n",
       "      <td>0.663594</td>\n",
       "      <td>1.0</td>\n",
       "      <td>0.815385</td>\n",
       "      <td>4.0</td>\n",
       "      <td>2.0</td>\n",
       "      <td>1.0</td>\n",
       "      <td>...</td>\n",
       "      <td>0.100000</td>\n",
       "      <td>0.7</td>\n",
       "      <td>-0.350000</td>\n",
       "      <td>-0.600</td>\n",
       "      <td>-0.200000</td>\n",
       "      <td>0.500000</td>\n",
       "      <td>-0.187500</td>\n",
       "      <td>0.000000</td>\n",
       "      <td>0.187500</td>\n",
       "      <td>593</td>\n",
       "    </tr>\n",
       "    <tr>\n",
       "      <th>1</th>\n",
       "      <td>http://mashable.com/2013/01/07/ap-samsung-spon...</td>\n",
       "      <td>731.0</td>\n",
       "      <td>9.0</td>\n",
       "      <td>255.0</td>\n",
       "      <td>0.604743</td>\n",
       "      <td>1.0</td>\n",
       "      <td>0.791946</td>\n",
       "      <td>3.0</td>\n",
       "      <td>1.0</td>\n",
       "      <td>1.0</td>\n",
       "      <td>...</td>\n",
       "      <td>0.033333</td>\n",
       "      <td>0.7</td>\n",
       "      <td>-0.118750</td>\n",
       "      <td>-0.125</td>\n",
       "      <td>-0.100000</td>\n",
       "      <td>0.000000</td>\n",
       "      <td>0.000000</td>\n",
       "      <td>0.500000</td>\n",
       "      <td>0.000000</td>\n",
       "      <td>711</td>\n",
       "    </tr>\n",
       "    <tr>\n",
       "      <th>2</th>\n",
       "      <td>http://mashable.com/2013/01/07/apple-40-billio...</td>\n",
       "      <td>731.0</td>\n",
       "      <td>9.0</td>\n",
       "      <td>211.0</td>\n",
       "      <td>0.575130</td>\n",
       "      <td>1.0</td>\n",
       "      <td>0.663866</td>\n",
       "      <td>3.0</td>\n",
       "      <td>1.0</td>\n",
       "      <td>1.0</td>\n",
       "      <td>...</td>\n",
       "      <td>0.100000</td>\n",
       "      <td>1.0</td>\n",
       "      <td>-0.466667</td>\n",
       "      <td>-0.800</td>\n",
       "      <td>-0.133333</td>\n",
       "      <td>0.000000</td>\n",
       "      <td>0.000000</td>\n",
       "      <td>0.500000</td>\n",
       "      <td>0.000000</td>\n",
       "      <td>1500</td>\n",
       "    </tr>\n",
       "    <tr>\n",
       "      <th>3</th>\n",
       "      <td>http://mashable.com/2013/01/07/astronaut-notre...</td>\n",
       "      <td>731.0</td>\n",
       "      <td>9.0</td>\n",
       "      <td>531.0</td>\n",
       "      <td>0.503788</td>\n",
       "      <td>1.0</td>\n",
       "      <td>0.665635</td>\n",
       "      <td>9.0</td>\n",
       "      <td>0.0</td>\n",
       "      <td>1.0</td>\n",
       "      <td>...</td>\n",
       "      <td>0.136364</td>\n",
       "      <td>0.8</td>\n",
       "      <td>-0.369697</td>\n",
       "      <td>-0.600</td>\n",
       "      <td>-0.166667</td>\n",
       "      <td>0.000000</td>\n",
       "      <td>0.000000</td>\n",
       "      <td>0.500000</td>\n",
       "      <td>0.000000</td>\n",
       "      <td>1200</td>\n",
       "    </tr>\n",
       "    <tr>\n",
       "      <th>4</th>\n",
       "      <td>http://mashable.com/2013/01/07/att-u-verse-apps/</td>\n",
       "      <td>731.0</td>\n",
       "      <td>13.0</td>\n",
       "      <td>1072.0</td>\n",
       "      <td>0.415646</td>\n",
       "      <td>1.0</td>\n",
       "      <td>0.540890</td>\n",
       "      <td>19.0</td>\n",
       "      <td>19.0</td>\n",
       "      <td>20.0</td>\n",
       "      <td>...</td>\n",
       "      <td>0.033333</td>\n",
       "      <td>1.0</td>\n",
       "      <td>-0.220192</td>\n",
       "      <td>-0.500</td>\n",
       "      <td>-0.050000</td>\n",
       "      <td>0.454545</td>\n",
       "      <td>0.136364</td>\n",
       "      <td>0.045455</td>\n",
       "      <td>0.136364</td>\n",
       "      <td>505</td>\n",
       "    </tr>\n",
       "  </tbody>\n",
       "</table>\n",
       "<p>5 rows × 61 columns</p>\n",
       "</div>"
      ],
      "text/plain": [
       "                                                 url  timedelta  \\\n",
       "0  http://mashable.com/2013/01/07/amazon-instant-...      731.0   \n",
       "1  http://mashable.com/2013/01/07/ap-samsung-spon...      731.0   \n",
       "2  http://mashable.com/2013/01/07/apple-40-billio...      731.0   \n",
       "3  http://mashable.com/2013/01/07/astronaut-notre...      731.0   \n",
       "4   http://mashable.com/2013/01/07/att-u-verse-apps/      731.0   \n",
       "\n",
       "   n_tokens_title  n_tokens_content  n_unique_tokens  n_non_stop_words  \\\n",
       "0            12.0             219.0         0.663594               1.0   \n",
       "1             9.0             255.0         0.604743               1.0   \n",
       "2             9.0             211.0         0.575130               1.0   \n",
       "3             9.0             531.0         0.503788               1.0   \n",
       "4            13.0            1072.0         0.415646               1.0   \n",
       "\n",
       "   n_non_stop_unique_tokens  num_hrefs  num_self_hrefs  num_imgs   ...    \\\n",
       "0                  0.815385        4.0             2.0       1.0   ...     \n",
       "1                  0.791946        3.0             1.0       1.0   ...     \n",
       "2                  0.663866        3.0             1.0       1.0   ...     \n",
       "3                  0.665635        9.0             0.0       1.0   ...     \n",
       "4                  0.540890       19.0            19.0      20.0   ...     \n",
       "\n",
       "   min_positive_polarity  max_positive_polarity  avg_negative_polarity  \\\n",
       "0               0.100000                    0.7              -0.350000   \n",
       "1               0.033333                    0.7              -0.118750   \n",
       "2               0.100000                    1.0              -0.466667   \n",
       "3               0.136364                    0.8              -0.369697   \n",
       "4               0.033333                    1.0              -0.220192   \n",
       "\n",
       "   min_negative_polarity  max_negative_polarity  title_subjectivity  \\\n",
       "0                 -0.600              -0.200000            0.500000   \n",
       "1                 -0.125              -0.100000            0.000000   \n",
       "2                 -0.800              -0.133333            0.000000   \n",
       "3                 -0.600              -0.166667            0.000000   \n",
       "4                 -0.500              -0.050000            0.454545   \n",
       "\n",
       "   title_sentiment_polarity  abs_title_subjectivity  \\\n",
       "0                 -0.187500                0.000000   \n",
       "1                  0.000000                0.500000   \n",
       "2                  0.000000                0.500000   \n",
       "3                  0.000000                0.500000   \n",
       "4                  0.136364                0.045455   \n",
       "\n",
       "   abs_title_sentiment_polarity  shares  \n",
       "0                      0.187500     593  \n",
       "1                      0.000000     711  \n",
       "2                      0.000000    1500  \n",
       "3                      0.000000    1200  \n",
       "4                      0.136364     505  \n",
       "\n",
       "[5 rows x 61 columns]"
      ]
     },
     "execution_count": 438,
     "metadata": {},
     "output_type": "execute_result"
    }
   ],
   "source": [
    "df.head()"
   ]
  },
  {
   "cell_type": "code",
   "execution_count": 439,
   "metadata": {},
   "outputs": [
    {
     "name": "stdout",
     "output_type": "stream",
     "text": [
      "<class 'pandas.core.frame.DataFrame'>\n",
      "RangeIndex: 39644 entries, 0 to 39643\n",
      "Data columns (total 61 columns):\n",
      "url                               39644 non-null object\n",
      "timedelta                         39644 non-null float64\n",
      "n_tokens_title                    39644 non-null float64\n",
      "n_tokens_content                  39644 non-null float64\n",
      "n_unique_tokens                   39644 non-null float64\n",
      "n_non_stop_words                  39644 non-null float64\n",
      "n_non_stop_unique_tokens          39644 non-null float64\n",
      "num_hrefs                         39644 non-null float64\n",
      "num_self_hrefs                    39644 non-null float64\n",
      "num_imgs                          39644 non-null float64\n",
      "num_videos                        39644 non-null float64\n",
      "average_token_length              39644 non-null float64\n",
      "num_keywords                      39644 non-null float64\n",
      "data_channel_is_lifestyle         39644 non-null float64\n",
      " data_channel_is_entertainment    39644 non-null float64\n",
      "data_channel_is_bus               39644 non-null float64\n",
      "data_channel_is_socmed            39644 non-null float64\n",
      "data_channel_is_tech              39644 non-null float64\n",
      "data_channel_is_world             39644 non-null float64\n",
      "kw_min_min                        39644 non-null float64\n",
      "kw_max_min                        39644 non-null float64\n",
      "kw_avg_min                        39644 non-null float64\n",
      "kw_min_max                        39644 non-null float64\n",
      "kw_max_max                        39644 non-null float64\n",
      "kw_avg_max                        39644 non-null float64\n",
      "kw_min_avg                        39644 non-null float64\n",
      "kw_max_avg                        39644 non-null float64\n",
      "kw_avg_avg                        39644 non-null float64\n",
      "self_reference_min_shares         39644 non-null float64\n",
      "self_reference_max_shares         39644 non-null float64\n",
      "self_reference_avg_sharess        39644 non-null float64\n",
      "weekday_is_monday                 39644 non-null float64\n",
      "weekday_is_tuesday                39644 non-null float64\n",
      "weekday_is_wednesday              39644 non-null float64\n",
      "weekday_is_thursday               39644 non-null float64\n",
      "weekday_is_friday                 39644 non-null float64\n",
      "weekday_is_saturday               39644 non-null float64\n",
      "weekday_is_sunday                 39644 non-null float64\n",
      "is_weekend                        39644 non-null float64\n",
      "LDA_00                            39644 non-null float64\n",
      "LDA_01                            39644 non-null float64\n",
      "LDA_02                            39644 non-null float64\n",
      "LDA_03                            39644 non-null float64\n",
      "LDA_04                            39644 non-null float64\n",
      "global_subjectivity               39644 non-null float64\n",
      "global_sentiment_polarity         39644 non-null float64\n",
      "global_rate_positive_words        39644 non-null float64\n",
      "global_rate_negative_words        39644 non-null float64\n",
      "rate_positive_words               39644 non-null float64\n",
      "rate_negative_words               39644 non-null float64\n",
      "avg_positive_polarity             39644 non-null float64\n",
      "min_positive_polarity             39644 non-null float64\n",
      "max_positive_polarity             39644 non-null float64\n",
      "avg_negative_polarity             39644 non-null float64\n",
      "min_negative_polarity             39644 non-null float64\n",
      "max_negative_polarity             39644 non-null float64\n",
      "title_subjectivity                39644 non-null float64\n",
      "title_sentiment_polarity          39644 non-null float64\n",
      "abs_title_subjectivity            39644 non-null float64\n",
      "abs_title_sentiment_polarity      39644 non-null float64\n",
      "shares                            39644 non-null int64\n",
      "dtypes: float64(59), int64(1), object(1)\n",
      "memory usage: 18.5+ MB\n"
     ]
    }
   ],
   "source": [
    "df.info() # There seems to be no null values # 39644 rows and 61 columns, all are float64, one target is int64"
   ]
  },
  {
   "cell_type": "code",
   "execution_count": 270,
   "metadata": {},
   "outputs": [
    {
     "data": {
      "text/html": [
       "<div>\n",
       "<style scoped>\n",
       "    .dataframe tbody tr th:only-of-type {\n",
       "        vertical-align: middle;\n",
       "    }\n",
       "\n",
       "    .dataframe tbody tr th {\n",
       "        vertical-align: top;\n",
       "    }\n",
       "\n",
       "    .dataframe thead th {\n",
       "        text-align: right;\n",
       "    }\n",
       "</style>\n",
       "<table border=\"1\" class=\"dataframe\">\n",
       "  <thead>\n",
       "    <tr style=\"text-align: right;\">\n",
       "      <th></th>\n",
       "      <th>timedelta</th>\n",
       "      <th>n_tokens_title</th>\n",
       "      <th>n_tokens_content</th>\n",
       "      <th>n_unique_tokens</th>\n",
       "      <th>n_non_stop_words</th>\n",
       "      <th>n_non_stop_unique_tokens</th>\n",
       "      <th>num_hrefs</th>\n",
       "      <th>num_self_hrefs</th>\n",
       "      <th>num_imgs</th>\n",
       "      <th>num_videos</th>\n",
       "      <th>...</th>\n",
       "      <th>min_positive_polarity</th>\n",
       "      <th>max_positive_polarity</th>\n",
       "      <th>avg_negative_polarity</th>\n",
       "      <th>min_negative_polarity</th>\n",
       "      <th>max_negative_polarity</th>\n",
       "      <th>title_subjectivity</th>\n",
       "      <th>title_sentiment_polarity</th>\n",
       "      <th>abs_title_subjectivity</th>\n",
       "      <th>abs_title_sentiment_polarity</th>\n",
       "      <th>shares</th>\n",
       "    </tr>\n",
       "  </thead>\n",
       "  <tbody>\n",
       "    <tr>\n",
       "      <th>count</th>\n",
       "      <td>39644.000000</td>\n",
       "      <td>39644.000000</td>\n",
       "      <td>39644.000000</td>\n",
       "      <td>39644.000000</td>\n",
       "      <td>39644.000000</td>\n",
       "      <td>39644.000000</td>\n",
       "      <td>39644.000000</td>\n",
       "      <td>39644.000000</td>\n",
       "      <td>39644.000000</td>\n",
       "      <td>39644.000000</td>\n",
       "      <td>...</td>\n",
       "      <td>39644.000000</td>\n",
       "      <td>39644.000000</td>\n",
       "      <td>39644.000000</td>\n",
       "      <td>39644.000000</td>\n",
       "      <td>39644.000000</td>\n",
       "      <td>39644.000000</td>\n",
       "      <td>39644.000000</td>\n",
       "      <td>39644.000000</td>\n",
       "      <td>39644.000000</td>\n",
       "      <td>39644.000000</td>\n",
       "    </tr>\n",
       "    <tr>\n",
       "      <th>mean</th>\n",
       "      <td>354.530471</td>\n",
       "      <td>10.398749</td>\n",
       "      <td>546.514731</td>\n",
       "      <td>0.548216</td>\n",
       "      <td>0.996469</td>\n",
       "      <td>0.689175</td>\n",
       "      <td>10.883690</td>\n",
       "      <td>3.293638</td>\n",
       "      <td>4.544143</td>\n",
       "      <td>1.249874</td>\n",
       "      <td>...</td>\n",
       "      <td>0.095446</td>\n",
       "      <td>0.756728</td>\n",
       "      <td>-0.259524</td>\n",
       "      <td>-0.521944</td>\n",
       "      <td>-0.107500</td>\n",
       "      <td>0.282353</td>\n",
       "      <td>0.071425</td>\n",
       "      <td>0.341843</td>\n",
       "      <td>0.156064</td>\n",
       "      <td>3395.380184</td>\n",
       "    </tr>\n",
       "    <tr>\n",
       "      <th>std</th>\n",
       "      <td>214.163767</td>\n",
       "      <td>2.114037</td>\n",
       "      <td>471.107508</td>\n",
       "      <td>3.520708</td>\n",
       "      <td>5.231231</td>\n",
       "      <td>3.264816</td>\n",
       "      <td>11.332017</td>\n",
       "      <td>3.855141</td>\n",
       "      <td>8.309434</td>\n",
       "      <td>4.107855</td>\n",
       "      <td>...</td>\n",
       "      <td>0.071315</td>\n",
       "      <td>0.247786</td>\n",
       "      <td>0.127726</td>\n",
       "      <td>0.290290</td>\n",
       "      <td>0.095373</td>\n",
       "      <td>0.324247</td>\n",
       "      <td>0.265450</td>\n",
       "      <td>0.188791</td>\n",
       "      <td>0.226294</td>\n",
       "      <td>11626.950749</td>\n",
       "    </tr>\n",
       "    <tr>\n",
       "      <th>min</th>\n",
       "      <td>8.000000</td>\n",
       "      <td>2.000000</td>\n",
       "      <td>0.000000</td>\n",
       "      <td>0.000000</td>\n",
       "      <td>0.000000</td>\n",
       "      <td>0.000000</td>\n",
       "      <td>0.000000</td>\n",
       "      <td>0.000000</td>\n",
       "      <td>0.000000</td>\n",
       "      <td>0.000000</td>\n",
       "      <td>...</td>\n",
       "      <td>0.000000</td>\n",
       "      <td>0.000000</td>\n",
       "      <td>-1.000000</td>\n",
       "      <td>-1.000000</td>\n",
       "      <td>-1.000000</td>\n",
       "      <td>0.000000</td>\n",
       "      <td>-1.000000</td>\n",
       "      <td>0.000000</td>\n",
       "      <td>0.000000</td>\n",
       "      <td>1.000000</td>\n",
       "    </tr>\n",
       "    <tr>\n",
       "      <th>25%</th>\n",
       "      <td>164.000000</td>\n",
       "      <td>9.000000</td>\n",
       "      <td>246.000000</td>\n",
       "      <td>0.470870</td>\n",
       "      <td>1.000000</td>\n",
       "      <td>0.625739</td>\n",
       "      <td>4.000000</td>\n",
       "      <td>1.000000</td>\n",
       "      <td>1.000000</td>\n",
       "      <td>0.000000</td>\n",
       "      <td>...</td>\n",
       "      <td>0.050000</td>\n",
       "      <td>0.600000</td>\n",
       "      <td>-0.328383</td>\n",
       "      <td>-0.700000</td>\n",
       "      <td>-0.125000</td>\n",
       "      <td>0.000000</td>\n",
       "      <td>0.000000</td>\n",
       "      <td>0.166667</td>\n",
       "      <td>0.000000</td>\n",
       "      <td>946.000000</td>\n",
       "    </tr>\n",
       "    <tr>\n",
       "      <th>50%</th>\n",
       "      <td>339.000000</td>\n",
       "      <td>10.000000</td>\n",
       "      <td>409.000000</td>\n",
       "      <td>0.539226</td>\n",
       "      <td>1.000000</td>\n",
       "      <td>0.690476</td>\n",
       "      <td>8.000000</td>\n",
       "      <td>3.000000</td>\n",
       "      <td>1.000000</td>\n",
       "      <td>0.000000</td>\n",
       "      <td>...</td>\n",
       "      <td>0.100000</td>\n",
       "      <td>0.800000</td>\n",
       "      <td>-0.253333</td>\n",
       "      <td>-0.500000</td>\n",
       "      <td>-0.100000</td>\n",
       "      <td>0.150000</td>\n",
       "      <td>0.000000</td>\n",
       "      <td>0.500000</td>\n",
       "      <td>0.000000</td>\n",
       "      <td>1400.000000</td>\n",
       "    </tr>\n",
       "    <tr>\n",
       "      <th>75%</th>\n",
       "      <td>542.000000</td>\n",
       "      <td>12.000000</td>\n",
       "      <td>716.000000</td>\n",
       "      <td>0.608696</td>\n",
       "      <td>1.000000</td>\n",
       "      <td>0.754630</td>\n",
       "      <td>14.000000</td>\n",
       "      <td>4.000000</td>\n",
       "      <td>4.000000</td>\n",
       "      <td>1.000000</td>\n",
       "      <td>...</td>\n",
       "      <td>0.100000</td>\n",
       "      <td>1.000000</td>\n",
       "      <td>-0.186905</td>\n",
       "      <td>-0.300000</td>\n",
       "      <td>-0.050000</td>\n",
       "      <td>0.500000</td>\n",
       "      <td>0.150000</td>\n",
       "      <td>0.500000</td>\n",
       "      <td>0.250000</td>\n",
       "      <td>2800.000000</td>\n",
       "    </tr>\n",
       "    <tr>\n",
       "      <th>max</th>\n",
       "      <td>731.000000</td>\n",
       "      <td>23.000000</td>\n",
       "      <td>8474.000000</td>\n",
       "      <td>701.000000</td>\n",
       "      <td>1042.000000</td>\n",
       "      <td>650.000000</td>\n",
       "      <td>304.000000</td>\n",
       "      <td>116.000000</td>\n",
       "      <td>128.000000</td>\n",
       "      <td>91.000000</td>\n",
       "      <td>...</td>\n",
       "      <td>1.000000</td>\n",
       "      <td>1.000000</td>\n",
       "      <td>0.000000</td>\n",
       "      <td>0.000000</td>\n",
       "      <td>0.000000</td>\n",
       "      <td>1.000000</td>\n",
       "      <td>1.000000</td>\n",
       "      <td>0.500000</td>\n",
       "      <td>1.000000</td>\n",
       "      <td>843300.000000</td>\n",
       "    </tr>\n",
       "  </tbody>\n",
       "</table>\n",
       "<p>8 rows × 60 columns</p>\n",
       "</div>"
      ],
      "text/plain": [
       "          timedelta  n_tokens_title  n_tokens_content  n_unique_tokens  \\\n",
       "count  39644.000000    39644.000000      39644.000000     39644.000000   \n",
       "mean     354.530471       10.398749        546.514731         0.548216   \n",
       "std      214.163767        2.114037        471.107508         3.520708   \n",
       "min        8.000000        2.000000          0.000000         0.000000   \n",
       "25%      164.000000        9.000000        246.000000         0.470870   \n",
       "50%      339.000000       10.000000        409.000000         0.539226   \n",
       "75%      542.000000       12.000000        716.000000         0.608696   \n",
       "max      731.000000       23.000000       8474.000000       701.000000   \n",
       "\n",
       "       n_non_stop_words  n_non_stop_unique_tokens     num_hrefs  \\\n",
       "count      39644.000000              39644.000000  39644.000000   \n",
       "mean           0.996469                  0.689175     10.883690   \n",
       "std            5.231231                  3.264816     11.332017   \n",
       "min            0.000000                  0.000000      0.000000   \n",
       "25%            1.000000                  0.625739      4.000000   \n",
       "50%            1.000000                  0.690476      8.000000   \n",
       "75%            1.000000                  0.754630     14.000000   \n",
       "max         1042.000000                650.000000    304.000000   \n",
       "\n",
       "       num_self_hrefs      num_imgs    num_videos      ...        \\\n",
       "count    39644.000000  39644.000000  39644.000000      ...         \n",
       "mean         3.293638      4.544143      1.249874      ...         \n",
       "std          3.855141      8.309434      4.107855      ...         \n",
       "min          0.000000      0.000000      0.000000      ...         \n",
       "25%          1.000000      1.000000      0.000000      ...         \n",
       "50%          3.000000      1.000000      0.000000      ...         \n",
       "75%          4.000000      4.000000      1.000000      ...         \n",
       "max        116.000000    128.000000     91.000000      ...         \n",
       "\n",
       "       min_positive_polarity  max_positive_polarity  avg_negative_polarity  \\\n",
       "count           39644.000000           39644.000000           39644.000000   \n",
       "mean                0.095446               0.756728              -0.259524   \n",
       "std                 0.071315               0.247786               0.127726   \n",
       "min                 0.000000               0.000000              -1.000000   \n",
       "25%                 0.050000               0.600000              -0.328383   \n",
       "50%                 0.100000               0.800000              -0.253333   \n",
       "75%                 0.100000               1.000000              -0.186905   \n",
       "max                 1.000000               1.000000               0.000000   \n",
       "\n",
       "       min_negative_polarity  max_negative_polarity  title_subjectivity  \\\n",
       "count           39644.000000           39644.000000        39644.000000   \n",
       "mean               -0.521944              -0.107500            0.282353   \n",
       "std                 0.290290               0.095373            0.324247   \n",
       "min                -1.000000              -1.000000            0.000000   \n",
       "25%                -0.700000              -0.125000            0.000000   \n",
       "50%                -0.500000              -0.100000            0.150000   \n",
       "75%                -0.300000              -0.050000            0.500000   \n",
       "max                 0.000000               0.000000            1.000000   \n",
       "\n",
       "       title_sentiment_polarity  abs_title_subjectivity  \\\n",
       "count              39644.000000            39644.000000   \n",
       "mean                   0.071425                0.341843   \n",
       "std                    0.265450                0.188791   \n",
       "min                   -1.000000                0.000000   \n",
       "25%                    0.000000                0.166667   \n",
       "50%                    0.000000                0.500000   \n",
       "75%                    0.150000                0.500000   \n",
       "max                    1.000000                0.500000   \n",
       "\n",
       "       abs_title_sentiment_polarity         shares  \n",
       "count                  39644.000000   39644.000000  \n",
       "mean                       0.156064    3395.380184  \n",
       "std                        0.226294   11626.950749  \n",
       "min                        0.000000       1.000000  \n",
       "25%                        0.000000     946.000000  \n",
       "50%                        0.000000    1400.000000  \n",
       "75%                        0.250000    2800.000000  \n",
       "max                        1.000000  843300.000000  \n",
       "\n",
       "[8 rows x 60 columns]"
      ]
     },
     "execution_count": 270,
     "metadata": {},
     "output_type": "execute_result"
    }
   ],
   "source": [
    "df.describe() # all columns having max value 0 doesn't have min value 0 implying there is no such column which is not usable"
   ]
  },
  {
   "cell_type": "code",
   "execution_count": 440,
   "metadata": {},
   "outputs": [
    {
     "data": {
      "text/plain": [
       "<matplotlib.axes._subplots.AxesSubplot at 0x21378b389b0>"
      ]
     },
     "execution_count": 440,
     "metadata": {},
     "output_type": "execute_result"
    },
    {
     "data": {
      "image/png": "[encoded data removed]",
      "text/plain": [
       "<Figure size 936x936 with 1 Axes>"
      ]
     },
     "metadata": {},
     "output_type": "display_data"
    }
   ],
   "source": [
    "import seaborn as sns\n",
    "sns.boxplot(df['shares']) # There seems to be a lot of outliers"
   ]
  },
  {
   "cell_type": "code",
   "execution_count": 442,
   "metadata": {},
   "outputs": [
    {
     "data": {
      "text/plain": [
       "(0, 6000)"
      ]
     },
     "execution_count": 442,
     "metadata": {},
     "output_type": "execute_result"
    },
    {
     "data": {
      "image/png": "[encoded data removed]",
      "text/plain": [
       "<Figure size 936x936 with 1 Axes>"
      ]
     },
     "metadata": {},
     "output_type": "display_data"
    }
   ],
   "source": [
    "import seaborn as sns\n",
    "ax =sns.boxplot(df['shares'])\n",
    "ax.set_xlim([0,6000])                 # Setting 5500 as upperlimit"
   ]
  },
  {
   "cell_type": "code",
   "execution_count": 443,
   "metadata": {},
   "outputs": [],
   "source": [
    "df = df[df['shares']<=5500]  # Removing all the outliers and resetting the dataset"
   ]
  },
  {
   "cell_type": "code",
   "execution_count": 444,
   "metadata": {},
   "outputs": [
    {
     "data": {
      "text/plain": [
       "(35103, 61)"
      ]
     },
     "execution_count": 444,
     "metadata": {},
     "output_type": "execute_result"
    }
   ],
   "source": [
    "df.shape"
   ]
  },
  {
   "cell_type": "code",
   "execution_count": 273,
   "metadata": {
    "scrolled": true
   },
   "outputs": [
    {
     "data": {
      "text/plain": [
       "4541"
      ]
     },
     "execution_count": 273,
     "metadata": {},
     "output_type": "execute_result"
    }
   ],
   "source": [
    "39644-35103 # There are 4541 outliers which will influence modelling of data, hence removed"
   ]
  },
  {
   "cell_type": "code",
   "execution_count": 445,
   "metadata": {},
   "outputs": [],
   "source": [
    "correlation = df.corr()"
   ]
  },
  {
   "cell_type": "code",
   "execution_count": 446,
   "metadata": {
    "scrolled": true
   },
   "outputs": [
    {
     "data": {
      "text/html": [
       "<div>\n",
       "<style scoped>\n",
       "    .dataframe tbody tr th:only-of-type {\n",
       "        vertical-align: middle;\n",
       "    }\n",
       "\n",
       "    .dataframe tbody tr th {\n",
       "        vertical-align: top;\n",
       "    }\n",
       "\n",
       "    .dataframe thead th {\n",
       "        text-align: right;\n",
       "    }\n",
       "</style>\n",
       "<table border=\"1\" class=\"dataframe\">\n",
       "  <thead>\n",
       "    <tr style=\"text-align: right;\">\n",
       "      <th></th>\n",
       "      <th>timedelta</th>\n",
       "      <th>n_tokens_title</th>\n",
       "      <th>n_tokens_content</th>\n",
       "      <th>n_unique_tokens</th>\n",
       "      <th>n_non_stop_words</th>\n",
       "      <th>n_non_stop_unique_tokens</th>\n",
       "      <th>num_hrefs</th>\n",
       "      <th>num_self_hrefs</th>\n",
       "      <th>num_imgs</th>\n",
       "      <th>num_videos</th>\n",
       "      <th>...</th>\n",
       "      <th>min_positive_polarity</th>\n",
       "      <th>max_positive_polarity</th>\n",
       "      <th>avg_negative_polarity</th>\n",
       "      <th>min_negative_polarity</th>\n",
       "      <th>max_negative_polarity</th>\n",
       "      <th>title_subjectivity</th>\n",
       "      <th>title_sentiment_polarity</th>\n",
       "      <th>abs_title_subjectivity</th>\n",
       "      <th>abs_title_sentiment_polarity</th>\n",
       "      <th>shares</th>\n",
       "    </tr>\n",
       "  </thead>\n",
       "  <tbody>\n",
       "    <tr>\n",
       "      <th>timedelta</th>\n",
       "      <td>1.000000</td>\n",
       "      <td>-0.236009</td>\n",
       "      <td>-0.072766</td>\n",
       "      <td>0.197873</td>\n",
       "      <td>0.146491</td>\n",
       "      <td>0.178275</td>\n",
       "      <td>0.000453</td>\n",
       "      <td>0.068202</td>\n",
       "      <td>-0.020545</td>\n",
       "      <td>-0.005542</td>\n",
       "      <td>...</td>\n",
       "      <td>0.053334</td>\n",
       "      <td>0.091992</td>\n",
       "      <td>0.007344</td>\n",
       "      <td>0.072338</td>\n",
       "      <td>-0.061903</td>\n",
       "      <td>-0.017477</td>\n",
       "      <td>0.039982</td>\n",
       "      <td>0.008859</td>\n",
       "      <td>-0.001853</td>\n",
       "      <td>0.036572</td>\n",
       "    </tr>\n",
       "    <tr>\n",
       "      <th>n_tokens_title</th>\n",
       "      <td>-0.236009</td>\n",
       "      <td>1.000000</td>\n",
       "      <td>0.031569</td>\n",
       "      <td>-0.056043</td>\n",
       "      <td>-0.039880</td>\n",
       "      <td>-0.048125</td>\n",
       "      <td>-0.042072</td>\n",
       "      <td>-0.006600</td>\n",
       "      <td>0.000518</td>\n",
       "      <td>0.052735</td>\n",
       "      <td>...</td>\n",
       "      <td>-0.025126</td>\n",
       "      <td>-0.013712</td>\n",
       "      <td>-0.018506</td>\n",
       "      <td>-0.034713</td>\n",
       "      <td>0.014306</td>\n",
       "      <td>0.084982</td>\n",
       "      <td>0.005281</td>\n",
       "      <td>-0.149260</td>\n",
       "      <td>0.048752</td>\n",
       "      <td>-0.042050</td>\n",
       "    </tr>\n",
       "    <tr>\n",
       "      <th>n_tokens_content</th>\n",
       "      <td>-0.072766</td>\n",
       "      <td>0.031569</td>\n",
       "      <td>1.000000</td>\n",
       "      <td>-0.416598</td>\n",
       "      <td>0.199211</td>\n",
       "      <td>-0.238594</td>\n",
       "      <td>0.426989</td>\n",
       "      <td>0.303656</td>\n",
       "      <td>0.357074</td>\n",
       "      <td>0.107137</td>\n",
       "      <td>...</td>\n",
       "      <td>-0.265268</td>\n",
       "      <td>0.417965</td>\n",
       "      <td>-0.137432</td>\n",
       "      <td>-0.456712</td>\n",
       "      <td>0.227250</td>\n",
       "      <td>0.003779</td>\n",
       "      <td>0.019752</td>\n",
       "      <td>0.010904</td>\n",
       "      <td>0.011489</td>\n",
       "      <td>0.047821</td>\n",
       "    </tr>\n",
       "    <tr>\n",
       "      <th>n_unique_tokens</th>\n",
       "      <td>0.197873</td>\n",
       "      <td>-0.056043</td>\n",
       "      <td>-0.416598</td>\n",
       "      <td>1.000000</td>\n",
       "      <td>0.667108</td>\n",
       "      <td>0.937128</td>\n",
       "      <td>-0.121405</td>\n",
       "      <td>-0.059668</td>\n",
       "      <td>-0.246679</td>\n",
       "      <td>0.019867</td>\n",
       "      <td>...</td>\n",
       "      <td>0.406762</td>\n",
       "      <td>0.138506</td>\n",
       "      <td>-0.204364</td>\n",
       "      <td>0.043886</td>\n",
       "      <td>-0.328148</td>\n",
       "      <td>-0.006015</td>\n",
       "      <td>-0.022272</td>\n",
       "      <td>-0.007195</td>\n",
       "      <td>-0.018025</td>\n",
       "      <td>-0.049100</td>\n",
       "    </tr>\n",
       "    <tr>\n",
       "      <th>n_non_stop_words</th>\n",
       "      <td>0.146491</td>\n",
       "      <td>-0.039880</td>\n",
       "      <td>0.199211</td>\n",
       "      <td>0.667108</td>\n",
       "      <td>1.000000</td>\n",
       "      <td>0.757132</td>\n",
       "      <td>0.165651</td>\n",
       "      <td>0.144449</td>\n",
       "      <td>0.012173</td>\n",
       "      <td>0.016497</td>\n",
       "      <td>...</td>\n",
       "      <td>0.227301</td>\n",
       "      <td>0.518774</td>\n",
       "      <td>-0.344362</td>\n",
       "      <td>-0.302507</td>\n",
       "      <td>-0.191661</td>\n",
       "      <td>-0.029781</td>\n",
       "      <td>-0.005173</td>\n",
       "      <td>0.017883</td>\n",
       "      <td>-0.026993</td>\n",
       "      <td>-0.013188</td>\n",
       "    </tr>\n",
       "    <tr>\n",
       "      <th>n_non_stop_unique_tokens</th>\n",
       "      <td>0.178275</td>\n",
       "      <td>-0.048125</td>\n",
       "      <td>-0.238594</td>\n",
       "      <td>0.937128</td>\n",
       "      <td>0.757132</td>\n",
       "      <td>1.000000</td>\n",
       "      <td>-0.112844</td>\n",
       "      <td>-0.031421</td>\n",
       "      <td>-0.298722</td>\n",
       "      <td>0.009469</td>\n",
       "      <td>...</td>\n",
       "      <td>0.320487</td>\n",
       "      <td>0.257142</td>\n",
       "      <td>-0.243355</td>\n",
       "      <td>-0.082221</td>\n",
       "      <td>-0.259059</td>\n",
       "      <td>-0.027690</td>\n",
       "      <td>-0.030829</td>\n",
       "      <td>0.009044</td>\n",
       "      <td>-0.036859</td>\n",
       "      <td>-0.050807</td>\n",
       "    </tr>\n",
       "    <tr>\n",
       "      <th>num_hrefs</th>\n",
       "      <td>0.000453</td>\n",
       "      <td>-0.042072</td>\n",
       "      <td>0.426989</td>\n",
       "      <td>-0.121405</td>\n",
       "      <td>0.165651</td>\n",
       "      <td>-0.112844</td>\n",
       "      <td>1.000000</td>\n",
       "      <td>0.397668</td>\n",
       "      <td>0.343229</td>\n",
       "      <td>0.109066</td>\n",
       "      <td>...</td>\n",
       "      <td>-0.090368</td>\n",
       "      <td>0.286219</td>\n",
       "      <td>-0.148775</td>\n",
       "      <td>-0.260927</td>\n",
       "      <td>0.058417</td>\n",
       "      <td>0.037902</td>\n",
       "      <td>0.035266</td>\n",
       "      <td>0.009212</td>\n",
       "      <td>0.050265</td>\n",
       "      <td>0.077652</td>\n",
       "    </tr>\n",
       "    <tr>\n",
       "      <th>num_self_hrefs</th>\n",
       "      <td>0.068202</td>\n",
       "      <td>-0.006600</td>\n",
       "      <td>0.303656</td>\n",
       "      <td>-0.059668</td>\n",
       "      <td>0.144449</td>\n",
       "      <td>-0.031421</td>\n",
       "      <td>0.397668</td>\n",
       "      <td>1.000000</td>\n",
       "      <td>0.252016</td>\n",
       "      <td>0.070527</td>\n",
       "      <td>...</td>\n",
       "      <td>-0.073678</td>\n",
       "      <td>0.186816</td>\n",
       "      <td>-0.055201</td>\n",
       "      <td>-0.117561</td>\n",
       "      <td>0.040353</td>\n",
       "      <td>-0.011508</td>\n",
       "      <td>0.024899</td>\n",
       "      <td>0.008665</td>\n",
       "      <td>-0.010459</td>\n",
       "      <td>0.043162</td>\n",
       "    </tr>\n",
       "    <tr>\n",
       "      <th>num_imgs</th>\n",
       "      <td>-0.020545</td>\n",
       "      <td>0.000518</td>\n",
       "      <td>0.357074</td>\n",
       "      <td>-0.246679</td>\n",
       "      <td>0.012173</td>\n",
       "      <td>-0.298722</td>\n",
       "      <td>0.343229</td>\n",
       "      <td>0.252016</td>\n",
       "      <td>1.000000</td>\n",
       "      <td>-0.061229</td>\n",
       "      <td>...</td>\n",
       "      <td>-0.034463</td>\n",
       "      <td>0.158222</td>\n",
       "      <td>-0.067512</td>\n",
       "      <td>-0.135326</td>\n",
       "      <td>0.047311</td>\n",
       "      <td>0.044340</td>\n",
       "      <td>0.044743</td>\n",
       "      <td>-0.009668</td>\n",
       "      <td>0.054453</td>\n",
       "      <td>0.055927</td>\n",
       "    </tr>\n",
       "    <tr>\n",
       "      <th>num_videos</th>\n",
       "      <td>-0.005542</td>\n",
       "      <td>0.052735</td>\n",
       "      <td>0.107137</td>\n",
       "      <td>0.019867</td>\n",
       "      <td>0.016497</td>\n",
       "      <td>0.009469</td>\n",
       "      <td>0.109066</td>\n",
       "      <td>0.070527</td>\n",
       "      <td>-0.061229</td>\n",
       "      <td>1.000000</td>\n",
       "      <td>...</td>\n",
       "      <td>-0.013930</td>\n",
       "      <td>0.124785</td>\n",
       "      <td>-0.118924</td>\n",
       "      <td>-0.141710</td>\n",
       "      <td>0.029729</td>\n",
       "      <td>0.063295</td>\n",
       "      <td>0.016383</td>\n",
       "      <td>-0.026341</td>\n",
       "      <td>0.053946</td>\n",
       "      <td>-0.002898</td>\n",
       "    </tr>\n",
       "    <tr>\n",
       "      <th>average_token_length</th>\n",
       "      <td>0.119298</td>\n",
       "      <td>-0.067791</td>\n",
       "      <td>0.164262</td>\n",
       "      <td>0.643580</td>\n",
       "      <td>0.940707</td>\n",
       "      <td>0.697328</td>\n",
       "      <td>0.218381</td>\n",
       "      <td>0.118386</td>\n",
       "      <td>0.027287</td>\n",
       "      <td>-0.008242</td>\n",
       "      <td>...</td>\n",
       "      <td>0.211486</td>\n",
       "      <td>0.451383</td>\n",
       "      <td>-0.310572</td>\n",
       "      <td>-0.266008</td>\n",
       "      <td>-0.186990</td>\n",
       "      <td>-0.041050</td>\n",
       "      <td>-0.012960</td>\n",
       "      <td>0.026720</td>\n",
       "      <td>-0.036405</td>\n",
       "      <td>-0.025552</td>\n",
       "    </tr>\n",
       "    <tr>\n",
       "      <th>num_keywords</th>\n",
       "      <td>0.055981</td>\n",
       "      <td>-0.001522</td>\n",
       "      <td>0.070692</td>\n",
       "      <td>-0.074978</td>\n",
       "      <td>-0.023537</td>\n",
       "      <td>-0.075369</td>\n",
       "      <td>0.125892</td>\n",
       "      <td>0.101544</td>\n",
       "      <td>0.080925</td>\n",
       "      <td>-0.025914</td>\n",
       "      <td>...</td>\n",
       "      <td>-0.016189</td>\n",
       "      <td>0.063048</td>\n",
       "      <td>0.023460</td>\n",
       "      <td>0.000669</td>\n",
       "      <td>0.027001</td>\n",
       "      <td>0.014299</td>\n",
       "      <td>0.029232</td>\n",
       "      <td>-0.009535</td>\n",
       "      <td>0.019581</td>\n",
       "      <td>0.065535</td>\n",
       "    </tr>\n",
       "    <tr>\n",
       "      <th>data_channel_is_lifestyle</th>\n",
       "      <td>0.056793</td>\n",
       "      <td>-0.070580</td>\n",
       "      <td>0.032286</td>\n",
       "      <td>-0.010448</td>\n",
       "      <td>0.028132</td>\n",
       "      <td>0.016686</td>\n",
       "      <td>0.055645</td>\n",
       "      <td>-0.046152</td>\n",
       "      <td>0.008196</td>\n",
       "      <td>-0.043296</td>\n",
       "      <td>...</td>\n",
       "      <td>-0.003067</td>\n",
       "      <td>0.068905</td>\n",
       "      <td>-0.007507</td>\n",
       "      <td>-0.022334</td>\n",
       "      <td>0.008892</td>\n",
       "      <td>0.004312</td>\n",
       "      <td>0.039278</td>\n",
       "      <td>0.005769</td>\n",
       "      <td>0.021136</td>\n",
       "      <td>0.031437</td>\n",
       "    </tr>\n",
       "    <tr>\n",
       "      <th>data_channel_is_entertainment</th>\n",
       "      <td>-0.049532</td>\n",
       "      <td>0.134636</td>\n",
       "      <td>0.064944</td>\n",
       "      <td>0.001213</td>\n",
       "      <td>-0.000729</td>\n",
       "      <td>-0.010479</td>\n",
       "      <td>-0.003569</td>\n",
       "      <td>0.025741</td>\n",
       "      <td>0.108152</td>\n",
       "      <td>0.158825</td>\n",
       "      <td>...</td>\n",
       "      <td>-0.016302</td>\n",
       "      <td>0.081186</td>\n",
       "      <td>-0.134033</td>\n",
       "      <td>-0.111539</td>\n",
       "      <td>-0.014087</td>\n",
       "      <td>0.054239</td>\n",
       "      <td>-0.009306</td>\n",
       "      <td>-0.049868</td>\n",
       "      <td>0.038636</td>\n",
       "      <td>-0.105422</td>\n",
       "    </tr>\n",
       "    <tr>\n",
       "      <th>data_channel_is_bus</th>\n",
       "      <td>0.062511</td>\n",
       "      <td>-0.028555</td>\n",
       "      <td>-0.018240</td>\n",
       "      <td>0.051839</td>\n",
       "      <td>0.064742</td>\n",
       "      <td>0.085131</td>\n",
       "      <td>-0.063768</td>\n",
       "      <td>-0.060580</td>\n",
       "      <td>-0.140980</td>\n",
       "      <td>-0.071014</td>\n",
       "      <td>...</td>\n",
       "      <td>-0.049361</td>\n",
       "      <td>0.019504</td>\n",
       "      <td>0.060821</td>\n",
       "      <td>0.070496</td>\n",
       "      <td>-0.009748</td>\n",
       "      <td>-0.042139</td>\n",
       "      <td>0.019057</td>\n",
       "      <td>-0.004979</td>\n",
       "      <td>-0.029128</td>\n",
       "      <td>0.001640</td>\n",
       "    </tr>\n",
       "    <tr>\n",
       "      <th>data_channel_is_socmed</th>\n",
       "      <td>0.073001</td>\n",
       "      <td>-0.087748</td>\n",
       "      <td>0.028435</td>\n",
       "      <td>0.013370</td>\n",
       "      <td>0.033046</td>\n",
       "      <td>0.017066</td>\n",
       "      <td>0.064319</td>\n",
       "      <td>0.096324</td>\n",
       "      <td>0.001416</td>\n",
       "      <td>-0.006762</td>\n",
       "      <td>...</td>\n",
       "      <td>-0.049185</td>\n",
       "      <td>0.028126</td>\n",
       "      <td>0.006037</td>\n",
       "      <td>0.007021</td>\n",
       "      <td>-0.013102</td>\n",
       "      <td>-0.014970</td>\n",
       "      <td>0.026066</td>\n",
       "      <td>0.011879</td>\n",
       "      <td>-0.002916</td>\n",
       "      <td>0.114944</td>\n",
       "    </tr>\n",
       "    <tr>\n",
       "      <th>data_channel_is_tech</th>\n",
       "      <td>0.083177</td>\n",
       "      <td>-0.043981</td>\n",
       "      <td>0.017566</td>\n",
       "      <td>0.004465</td>\n",
       "      <td>0.073595</td>\n",
       "      <td>0.028773</td>\n",
       "      <td>-0.061627</td>\n",
       "      <td>0.172222</td>\n",
       "      <td>0.001560</td>\n",
       "      <td>-0.092545</td>\n",
       "      <td>...</td>\n",
       "      <td>0.030302</td>\n",
       "      <td>0.028763</td>\n",
       "      <td>0.114139</td>\n",
       "      <td>0.119112</td>\n",
       "      <td>0.017147</td>\n",
       "      <td>-0.041054</td>\n",
       "      <td>0.026763</td>\n",
       "      <td>0.007123</td>\n",
       "      <td>-0.042365</td>\n",
       "      <td>0.097379</td>\n",
       "    </tr>\n",
       "    <tr>\n",
       "      <th>data_channel_is_world</th>\n",
       "      <td>-0.177018</td>\n",
       "      <td>0.046495</td>\n",
       "      <td>0.060179</td>\n",
       "      <td>-0.077329</td>\n",
       "      <td>-0.000545</td>\n",
       "      <td>-0.027648</td>\n",
       "      <td>-0.024356</td>\n",
       "      <td>-0.123770</td>\n",
       "      <td>-0.107475</td>\n",
       "      <td>-0.089094</td>\n",
       "      <td>...</td>\n",
       "      <td>-0.049841</td>\n",
       "      <td>-0.123944</td>\n",
       "      <td>0.021838</td>\n",
       "      <td>-0.080204</td>\n",
       "      <td>0.075448</td>\n",
       "      <td>-0.060684</td>\n",
       "      <td>-0.085357</td>\n",
       "      <td>0.056485</td>\n",
       "      <td>-0.064343</td>\n",
       "      <td>-0.137431</td>\n",
       "    </tr>\n",
       "    <tr>\n",
       "      <th>kw_min_min</th>\n",
       "      <td>0.591730</td>\n",
       "      <td>-0.106241</td>\n",
       "      <td>-0.057375</td>\n",
       "      <td>0.091382</td>\n",
       "      <td>0.048115</td>\n",
       "      <td>0.082067</td>\n",
       "      <td>-0.037591</td>\n",
       "      <td>-0.009836</td>\n",
       "      <td>-0.036515</td>\n",
       "      <td>0.016430</td>\n",
       "      <td>...</td>\n",
       "      <td>0.023058</td>\n",
       "      <td>0.021482</td>\n",
       "      <td>0.016757</td>\n",
       "      <td>0.051138</td>\n",
       "      <td>-0.027943</td>\n",
       "      <td>-0.003170</td>\n",
       "      <td>0.032088</td>\n",
       "      <td>0.006510</td>\n",
       "      <td>0.009405</td>\n",
       "      <td>0.039893</td>\n",
       "    </tr>\n",
       "    <tr>\n",
       "      <th>kw_max_min</th>\n",
       "      <td>0.032445</td>\n",
       "      <td>-0.004728</td>\n",
       "      <td>0.002778</td>\n",
       "      <td>-0.001772</td>\n",
       "      <td>0.000407</td>\n",
       "      <td>-0.001463</td>\n",
       "      <td>0.014440</td>\n",
       "      <td>0.001084</td>\n",
       "      <td>0.001910</td>\n",
       "      <td>0.002818</td>\n",
       "      <td>...</td>\n",
       "      <td>0.004494</td>\n",
       "      <td>0.013024</td>\n",
       "      <td>-0.006519</td>\n",
       "      <td>-0.003213</td>\n",
       "      <td>-0.001606</td>\n",
       "      <td>0.011839</td>\n",
       "      <td>0.015202</td>\n",
       "      <td>-0.003048</td>\n",
       "      <td>0.015862</td>\n",
       "      <td>0.022472</td>\n",
       "    </tr>\n",
       "    <tr>\n",
       "      <th>kw_avg_min</th>\n",
       "      <td>0.147561</td>\n",
       "      <td>-0.034009</td>\n",
       "      <td>-0.001909</td>\n",
       "      <td>0.013902</td>\n",
       "      <td>0.017986</td>\n",
       "      <td>0.016342</td>\n",
       "      <td>0.009926</td>\n",
       "      <td>0.000253</td>\n",
       "      <td>-0.004507</td>\n",
       "      <td>-0.006933</td>\n",
       "      <td>...</td>\n",
       "      <td>0.005358</td>\n",
       "      <td>0.025025</td>\n",
       "      <td>-0.004268</td>\n",
       "      <td>0.003216</td>\n",
       "      <td>-0.007270</td>\n",
       "      <td>0.007277</td>\n",
       "      <td>0.017196</td>\n",
       "      <td>0.001935</td>\n",
       "      <td>0.011864</td>\n",
       "      <td>0.031629</td>\n",
       "    </tr>\n",
       "    <tr>\n",
       "      <th>kw_min_max</th>\n",
       "      <td>-0.077000</td>\n",
       "      <td>0.010580</td>\n",
       "      <td>-0.022371</td>\n",
       "      <td>-0.005262</td>\n",
       "      <td>-0.040397</td>\n",
       "      <td>-0.017382</td>\n",
       "      <td>-0.022232</td>\n",
       "      <td>-0.026950</td>\n",
       "      <td>-0.002349</td>\n",
       "      <td>0.042923</td>\n",
       "      <td>...</td>\n",
       "      <td>0.001294</td>\n",
       "      <td>-0.020517</td>\n",
       "      <td>-0.004677</td>\n",
       "      <td>0.001891</td>\n",
       "      <td>-0.006693</td>\n",
       "      <td>0.020526</td>\n",
       "      <td>0.009098</td>\n",
       "      <td>-0.010067</td>\n",
       "      <td>0.021940</td>\n",
       "      <td>0.007841</td>\n",
       "    </tr>\n",
       "    <tr>\n",
       "      <th>kw_max_max</th>\n",
       "      <td>-0.639926</td>\n",
       "      <td>0.118497</td>\n",
       "      <td>0.063626</td>\n",
       "      <td>-0.097828</td>\n",
       "      <td>-0.052023</td>\n",
       "      <td>-0.087437</td>\n",
       "      <td>0.048057</td>\n",
       "      <td>0.002066</td>\n",
       "      <td>0.044020</td>\n",
       "      <td>-0.004229</td>\n",
       "      <td>...</td>\n",
       "      <td>-0.024916</td>\n",
       "      <td>-0.021207</td>\n",
       "      <td>-0.018187</td>\n",
       "      <td>-0.056042</td>\n",
       "      <td>0.029538</td>\n",
       "      <td>0.004181</td>\n",
       "      <td>-0.029618</td>\n",
       "      <td>-0.008003</td>\n",
       "      <td>-0.006918</td>\n",
       "      <td>-0.024916</td>\n",
       "    </tr>\n",
       "    <tr>\n",
       "      <th>kw_avg_max</th>\n",
       "      <td>-0.494588</td>\n",
       "      <td>0.105280</td>\n",
       "      <td>-0.090259</td>\n",
       "      <td>-0.045293</td>\n",
       "      <td>-0.165602</td>\n",
       "      <td>-0.092704</td>\n",
       "      <td>-0.028245</td>\n",
       "      <td>-0.065622</td>\n",
       "      <td>-0.004821</td>\n",
       "      <td>0.128168</td>\n",
       "      <td>...</td>\n",
       "      <td>0.006241</td>\n",
       "      <td>-0.097713</td>\n",
       "      <td>-0.018998</td>\n",
       "      <td>0.013644</td>\n",
       "      <td>-0.021596</td>\n",
       "      <td>0.044194</td>\n",
       "      <td>-0.011962</td>\n",
       "      <td>-0.013603</td>\n",
       "      <td>0.032304</td>\n",
       "      <td>0.016025</td>\n",
       "    </tr>\n",
       "    <tr>\n",
       "      <th>kw_min_avg</th>\n",
       "      <td>-0.157242</td>\n",
       "      <td>-0.002050</td>\n",
       "      <td>-0.027170</td>\n",
       "      <td>-0.025341</td>\n",
       "      <td>-0.074184</td>\n",
       "      <td>-0.064109</td>\n",
       "      <td>0.053524</td>\n",
       "      <td>0.039679</td>\n",
       "      <td>0.075698</td>\n",
       "      <td>0.058425</td>\n",
       "      <td>...</td>\n",
       "      <td>0.019931</td>\n",
       "      <td>-0.015224</td>\n",
       "      <td>-0.019233</td>\n",
       "      <td>-0.000670</td>\n",
       "      <td>-0.011286</td>\n",
       "      <td>0.041966</td>\n",
       "      <td>0.026462</td>\n",
       "      <td>-0.015154</td>\n",
       "      <td>0.053661</td>\n",
       "      <td>0.089510</td>\n",
       "    </tr>\n",
       "    <tr>\n",
       "      <th>kw_max_avg</th>\n",
       "      <td>-0.051891</td>\n",
       "      <td>0.006275</td>\n",
       "      <td>-0.027877</td>\n",
       "      <td>-0.007358</td>\n",
       "      <td>-0.047091</td>\n",
       "      <td>-0.035250</td>\n",
       "      <td>0.061585</td>\n",
       "      <td>-0.018924</td>\n",
       "      <td>0.052895</td>\n",
       "      <td>0.051269</td>\n",
       "      <td>...</td>\n",
       "      <td>0.019738</td>\n",
       "      <td>0.009300</td>\n",
       "      <td>-0.045455</td>\n",
       "      <td>-0.023062</td>\n",
       "      <td>-0.022102</td>\n",
       "      <td>0.043390</td>\n",
       "      <td>0.021034</td>\n",
       "      <td>-0.013094</td>\n",
       "      <td>0.046915</td>\n",
       "      <td>0.063157</td>\n",
       "    </tr>\n",
       "    <tr>\n",
       "      <th>kw_avg_avg</th>\n",
       "      <td>-0.164070</td>\n",
       "      <td>0.002881</td>\n",
       "      <td>-0.078951</td>\n",
       "      <td>-0.029980</td>\n",
       "      <td>-0.142213</td>\n",
       "      <td>-0.102606</td>\n",
       "      <td>0.109866</td>\n",
       "      <td>-0.017815</td>\n",
       "      <td>0.130236</td>\n",
       "      <td>0.112729</td>\n",
       "      <td>...</td>\n",
       "      <td>0.048427</td>\n",
       "      <td>-0.006845</td>\n",
       "      <td>-0.065792</td>\n",
       "      <td>-0.013262</td>\n",
       "      <td>-0.044635</td>\n",
       "      <td>0.088587</td>\n",
       "      <td>0.036500</td>\n",
       "      <td>-0.024281</td>\n",
       "      <td>0.093308</td>\n",
       "      <td>0.147678</td>\n",
       "    </tr>\n",
       "    <tr>\n",
       "      <th>self_reference_min_shares</th>\n",
       "      <td>-0.013325</td>\n",
       "      <td>0.000094</td>\n",
       "      <td>-0.026724</td>\n",
       "      <td>0.041051</td>\n",
       "      <td>0.031929</td>\n",
       "      <td>0.034659</td>\n",
       "      <td>-0.006894</td>\n",
       "      <td>-0.029100</td>\n",
       "      <td>0.002447</td>\n",
       "      <td>-0.001556</td>\n",
       "      <td>...</td>\n",
       "      <td>0.025511</td>\n",
       "      <td>0.002522</td>\n",
       "      <td>-0.030630</td>\n",
       "      <td>-0.004781</td>\n",
       "      <td>-0.043124</td>\n",
       "      <td>0.002078</td>\n",
       "      <td>-0.000752</td>\n",
       "      <td>0.003229</td>\n",
       "      <td>0.004142</td>\n",
       "      <td>0.044588</td>\n",
       "    </tr>\n",
       "    <tr>\n",
       "      <th>self_reference_max_shares</th>\n",
       "      <td>-0.015609</td>\n",
       "      <td>0.001031</td>\n",
       "      <td>0.026634</td>\n",
       "      <td>0.022775</td>\n",
       "      <td>0.040887</td>\n",
       "      <td>0.022200</td>\n",
       "      <td>0.076265</td>\n",
       "      <td>0.122866</td>\n",
       "      <td>0.035968</td>\n",
       "      <td>0.068852</td>\n",
       "      <td>...</td>\n",
       "      <td>-0.002399</td>\n",
       "      <td>0.037143</td>\n",
       "      <td>-0.047058</td>\n",
       "      <td>-0.040225</td>\n",
       "      <td>-0.021758</td>\n",
       "      <td>0.010066</td>\n",
       "      <td>0.002123</td>\n",
       "      <td>-0.003884</td>\n",
       "      <td>0.007145</td>\n",
       "      <td>0.054805</td>\n",
       "    </tr>\n",
       "    <tr>\n",
       "      <th>self_reference_avg_sharess</th>\n",
       "      <td>-0.016554</td>\n",
       "      <td>0.003141</td>\n",
       "      <td>-0.011233</td>\n",
       "      <td>0.042382</td>\n",
       "      <td>0.042249</td>\n",
       "      <td>0.036526</td>\n",
       "      <td>0.022909</td>\n",
       "      <td>0.021941</td>\n",
       "      <td>0.017942</td>\n",
       "      <td>0.034551</td>\n",
       "      <td>...</td>\n",
       "      <td>0.016990</td>\n",
       "      <td>0.018775</td>\n",
       "      <td>-0.044929</td>\n",
       "      <td>-0.021120</td>\n",
       "      <td>-0.041424</td>\n",
       "      <td>0.006738</td>\n",
       "      <td>-0.000555</td>\n",
       "      <td>-0.001086</td>\n",
       "      <td>0.006244</td>\n",
       "      <td>0.057195</td>\n",
       "    </tr>\n",
       "    <tr>\n",
       "      <th>weekday_is_monday</th>\n",
       "      <td>-0.003507</td>\n",
       "      <td>0.002381</td>\n",
       "      <td>0.000450</td>\n",
       "      <td>0.004495</td>\n",
       "      <td>0.005609</td>\n",
       "      <td>0.006804</td>\n",
       "      <td>-0.007729</td>\n",
       "      <td>0.012080</td>\n",
       "      <td>-0.005280</td>\n",
       "      <td>0.012007</td>\n",
       "      <td>...</td>\n",
       "      <td>-0.000114</td>\n",
       "      <td>0.011374</td>\n",
       "      <td>0.001243</td>\n",
       "      <td>0.000856</td>\n",
       "      <td>0.007535</td>\n",
       "      <td>-0.011349</td>\n",
       "      <td>-0.004614</td>\n",
       "      <td>-0.003326</td>\n",
       "      <td>-0.010787</td>\n",
       "      <td>-0.022693</td>\n",
       "    </tr>\n",
       "    <tr>\n",
       "      <th>weekday_is_tuesday</th>\n",
       "      <td>-0.002979</td>\n",
       "      <td>0.007871</td>\n",
       "      <td>-0.005187</td>\n",
       "      <td>0.003235</td>\n",
       "      <td>0.002100</td>\n",
       "      <td>0.002203</td>\n",
       "      <td>-0.011084</td>\n",
       "      <td>0.001539</td>\n",
       "      <td>-0.005166</td>\n",
       "      <td>0.006657</td>\n",
       "      <td>...</td>\n",
       "      <td>-0.007949</td>\n",
       "      <td>-0.006542</td>\n",
       "      <td>0.011597</td>\n",
       "      <td>0.013024</td>\n",
       "      <td>-0.000478</td>\n",
       "      <td>-0.002120</td>\n",
       "      <td>0.000826</td>\n",
       "      <td>0.010338</td>\n",
       "      <td>-0.002177</td>\n",
       "      <td>-0.039181</td>\n",
       "    </tr>\n",
       "    <tr>\n",
       "      <th>weekday_is_wednesday</th>\n",
       "      <td>0.008601</td>\n",
       "      <td>0.010620</td>\n",
       "      <td>-0.021434</td>\n",
       "      <td>0.007299</td>\n",
       "      <td>-0.003373</td>\n",
       "      <td>0.008574</td>\n",
       "      <td>-0.031825</td>\n",
       "      <td>-0.018908</td>\n",
       "      <td>-0.022020</td>\n",
       "      <td>-0.001637</td>\n",
       "      <td>...</td>\n",
       "      <td>0.001837</td>\n",
       "      <td>-0.011708</td>\n",
       "      <td>0.010974</td>\n",
       "      <td>0.013073</td>\n",
       "      <td>0.002096</td>\n",
       "      <td>-0.011190</td>\n",
       "      <td>-0.014704</td>\n",
       "      <td>0.009346</td>\n",
       "      <td>-0.012382</td>\n",
       "      <td>-0.041756</td>\n",
       "    </tr>\n",
       "    <tr>\n",
       "      <th>weekday_is_thursday</th>\n",
       "      <td>0.002737</td>\n",
       "      <td>-0.014178</td>\n",
       "      <td>-0.006007</td>\n",
       "      <td>0.003451</td>\n",
       "      <td>0.001629</td>\n",
       "      <td>0.002741</td>\n",
       "      <td>-0.013306</td>\n",
       "      <td>-0.017298</td>\n",
       "      <td>-0.007652</td>\n",
       "      <td>-0.003565</td>\n",
       "      <td>...</td>\n",
       "      <td>0.001100</td>\n",
       "      <td>-0.009265</td>\n",
       "      <td>0.006797</td>\n",
       "      <td>0.005888</td>\n",
       "      <td>-0.000547</td>\n",
       "      <td>0.003713</td>\n",
       "      <td>-0.004981</td>\n",
       "      <td>0.003816</td>\n",
       "      <td>-0.005011</td>\n",
       "      <td>-0.025042</td>\n",
       "    </tr>\n",
       "    <tr>\n",
       "      <th>weekday_is_friday</th>\n",
       "      <td>-0.003494</td>\n",
       "      <td>-0.001738</td>\n",
       "      <td>-0.014521</td>\n",
       "      <td>0.014061</td>\n",
       "      <td>0.000625</td>\n",
       "      <td>0.013128</td>\n",
       "      <td>-0.001155</td>\n",
       "      <td>-0.022444</td>\n",
       "      <td>-0.008036</td>\n",
       "      <td>-0.000676</td>\n",
       "      <td>...</td>\n",
       "      <td>0.014773</td>\n",
       "      <td>-0.014787</td>\n",
       "      <td>-0.006926</td>\n",
       "      <td>0.002079</td>\n",
       "      <td>-0.011127</td>\n",
       "      <td>-0.000647</td>\n",
       "      <td>-0.006156</td>\n",
       "      <td>0.011354</td>\n",
       "      <td>-0.002889</td>\n",
       "      <td>0.009258</td>\n",
       "    </tr>\n",
       "    <tr>\n",
       "      <th>weekday_is_saturday</th>\n",
       "      <td>-0.010298</td>\n",
       "      <td>-0.012109</td>\n",
       "      <td>0.038205</td>\n",
       "      <td>-0.038052</td>\n",
       "      <td>-0.009215</td>\n",
       "      <td>-0.033875</td>\n",
       "      <td>0.062326</td>\n",
       "      <td>0.050618</td>\n",
       "      <td>0.035117</td>\n",
       "      <td>-0.005735</td>\n",
       "      <td>...</td>\n",
       "      <td>-0.019523</td>\n",
       "      <td>0.026896</td>\n",
       "      <td>-0.017704</td>\n",
       "      <td>-0.031708</td>\n",
       "      <td>0.007871</td>\n",
       "      <td>0.008563</td>\n",
       "      <td>0.024329</td>\n",
       "      <td>-0.020578</td>\n",
       "      <td>0.016149</td>\n",
       "      <td>0.101764</td>\n",
       "    </tr>\n",
       "    <tr>\n",
       "      <th>weekday_is_sunday</th>\n",
       "      <td>0.006894</td>\n",
       "      <td>0.003533</td>\n",
       "      <td>0.034514</td>\n",
       "      <td>-0.012166</td>\n",
       "      <td>-0.001011</td>\n",
       "      <td>-0.017572</td>\n",
       "      <td>0.041807</td>\n",
       "      <td>0.019543</td>\n",
       "      <td>0.040337</td>\n",
       "      <td>-0.013835</td>\n",
       "      <td>...</td>\n",
       "      <td>0.005800</td>\n",
       "      <td>0.021252</td>\n",
       "      <td>-0.021182</td>\n",
       "      <td>-0.024060</td>\n",
       "      <td>-0.004779</td>\n",
       "      <td>0.024839</td>\n",
       "      <td>0.021946</td>\n",
       "      <td>-0.028222</td>\n",
       "      <td>0.035482</td>\n",
       "      <td>0.089757</td>\n",
       "    </tr>\n",
       "    <tr>\n",
       "      <th>is_weekend</th>\n",
       "      <td>-0.002197</td>\n",
       "      <td>-0.006010</td>\n",
       "      <td>0.053171</td>\n",
       "      <td>-0.036320</td>\n",
       "      <td>-0.007345</td>\n",
       "      <td>-0.037383</td>\n",
       "      <td>0.075880</td>\n",
       "      <td>0.050830</td>\n",
       "      <td>0.055325</td>\n",
       "      <td>-0.014465</td>\n",
       "      <td>...</td>\n",
       "      <td>-0.009613</td>\n",
       "      <td>0.035151</td>\n",
       "      <td>-0.028526</td>\n",
       "      <td>-0.040694</td>\n",
       "      <td>0.002047</td>\n",
       "      <td>0.024731</td>\n",
       "      <td>0.033834</td>\n",
       "      <td>-0.035855</td>\n",
       "      <td>0.038128</td>\n",
       "      <td>0.139997</td>\n",
       "    </tr>\n",
       "    <tr>\n",
       "      <th>LDA_00</th>\n",
       "      <td>0.082791</td>\n",
       "      <td>-0.071198</td>\n",
       "      <td>0.011338</td>\n",
       "      <td>0.039270</td>\n",
       "      <td>0.074595</td>\n",
       "      <td>0.083394</td>\n",
       "      <td>-0.022296</td>\n",
       "      <td>-0.027227</td>\n",
       "      <td>-0.147766</td>\n",
       "      <td>-0.073991</td>\n",
       "      <td>...</td>\n",
       "      <td>-0.096118</td>\n",
       "      <td>0.053308</td>\n",
       "      <td>0.044295</td>\n",
       "      <td>0.050205</td>\n",
       "      <td>-0.012495</td>\n",
       "      <td>-0.045569</td>\n",
       "      <td>0.033456</td>\n",
       "      <td>-0.002091</td>\n",
       "      <td>-0.024331</td>\n",
       "      <td>0.075626</td>\n",
       "    </tr>\n",
       "    <tr>\n",
       "      <th>LDA_01</th>\n",
       "      <td>0.001828</td>\n",
       "      <td>0.063344</td>\n",
       "      <td>-0.002983</td>\n",
       "      <td>0.054974</td>\n",
       "      <td>0.008058</td>\n",
       "      <td>0.042872</td>\n",
       "      <td>-0.052765</td>\n",
       "      <td>-0.001648</td>\n",
       "      <td>0.057239</td>\n",
       "      <td>0.018847</td>\n",
       "      <td>...</td>\n",
       "      <td>0.024219</td>\n",
       "      <td>0.043226</td>\n",
       "      <td>-0.106663</td>\n",
       "      <td>-0.067418</td>\n",
       "      <td>-0.033386</td>\n",
       "      <td>0.058640</td>\n",
       "      <td>-0.008257</td>\n",
       "      <td>-0.072779</td>\n",
       "      <td>0.038216</td>\n",
       "      <td>-0.076750</td>\n",
       "    </tr>\n",
       "    <tr>\n",
       "      <th>LDA_02</th>\n",
       "      <td>-0.149286</td>\n",
       "      <td>0.036622</td>\n",
       "      <td>0.091859</td>\n",
       "      <td>-0.081476</td>\n",
       "      <td>0.016288</td>\n",
       "      <td>-0.029490</td>\n",
       "      <td>0.000052</td>\n",
       "      <td>-0.088948</td>\n",
       "      <td>-0.088709</td>\n",
       "      <td>-0.090772</td>\n",
       "      <td>...</td>\n",
       "      <td>-0.056836</td>\n",
       "      <td>-0.110736</td>\n",
       "      <td>0.031123</td>\n",
       "      <td>-0.079371</td>\n",
       "      <td>0.081181</td>\n",
       "      <td>-0.071815</td>\n",
       "      <td>-0.074845</td>\n",
       "      <td>0.061531</td>\n",
       "      <td>-0.078667</td>\n",
       "      <td>-0.136693</td>\n",
       "    </tr>\n",
       "    <tr>\n",
       "      <th>LDA_03</th>\n",
       "      <td>-0.023506</td>\n",
       "      <td>0.043058</td>\n",
       "      <td>-0.130969</td>\n",
       "      <td>0.003795</td>\n",
       "      <td>-0.182816</td>\n",
       "      <td>-0.120612</td>\n",
       "      <td>0.115426</td>\n",
       "      <td>-0.025062</td>\n",
       "      <td>0.197016</td>\n",
       "      <td>0.272451</td>\n",
       "      <td>...</td>\n",
       "      <td>0.097607</td>\n",
       "      <td>-0.013350</td>\n",
       "      <td>-0.109841</td>\n",
       "      <td>-0.023339</td>\n",
       "      <td>-0.073370</td>\n",
       "      <td>0.121633</td>\n",
       "      <td>0.025563</td>\n",
       "      <td>-0.014237</td>\n",
       "      <td>0.116608</td>\n",
       "      <td>0.039276</td>\n",
       "    </tr>\n",
       "    <tr>\n",
       "      <th>LDA_04</th>\n",
       "      <td>0.095239</td>\n",
       "      <td>-0.062603</td>\n",
       "      <td>0.030468</td>\n",
       "      <td>-0.000265</td>\n",
       "      <td>0.091185</td>\n",
       "      <td>0.040476</td>\n",
       "      <td>-0.054163</td>\n",
       "      <td>0.139623</td>\n",
       "      <td>-0.016139</td>\n",
       "      <td>-0.127031</td>\n",
       "      <td>...</td>\n",
       "      <td>0.028893</td>\n",
       "      <td>0.042074</td>\n",
       "      <td>0.118957</td>\n",
       "      <td>0.107868</td>\n",
       "      <td>0.028800</td>\n",
       "      <td>-0.052363</td>\n",
       "      <td>0.024984</td>\n",
       "      <td>0.010176</td>\n",
       "      <td>-0.044348</td>\n",
       "      <td>0.086734</td>\n",
       "    </tr>\n",
       "    <tr>\n",
       "      <th>global_subjectivity</th>\n",
       "      <td>0.126758</td>\n",
       "      <td>-0.053311</td>\n",
       "      <td>0.130186</td>\n",
       "      <td>0.464631</td>\n",
       "      <td>0.651891</td>\n",
       "      <td>0.505801</td>\n",
       "      <td>0.198600</td>\n",
       "      <td>0.113750</td>\n",
       "      <td>0.076469</td>\n",
       "      <td>0.080459</td>\n",
       "      <td>...</td>\n",
       "      <td>0.229216</td>\n",
       "      <td>0.506233</td>\n",
       "      <td>-0.431697</td>\n",
       "      <td>-0.340158</td>\n",
       "      <td>-0.213913</td>\n",
       "      <td>0.113220</td>\n",
       "      <td>0.035991</td>\n",
       "      <td>-0.006322</td>\n",
       "      <td>0.089820</td>\n",
       "      <td>0.058290</td>\n",
       "    </tr>\n",
       "    <tr>\n",
       "      <th>global_sentiment_polarity</th>\n",
       "      <td>0.161222</td>\n",
       "      <td>-0.067982</td>\n",
       "      <td>0.012959</td>\n",
       "      <td>0.170846</td>\n",
       "      <td>0.208827</td>\n",
       "      <td>0.170138</td>\n",
       "      <td>0.088604</td>\n",
       "      <td>0.091981</td>\n",
       "      <td>0.023596</td>\n",
       "      <td>-0.032452</td>\n",
       "      <td>...</td>\n",
       "      <td>0.082917</td>\n",
       "      <td>0.430367</td>\n",
       "      <td>0.236928</td>\n",
       "      <td>0.293682</td>\n",
       "      <td>-0.042274</td>\n",
       "      <td>0.024823</td>\n",
       "      <td>0.238680</td>\n",
       "      <td>-0.036225</td>\n",
       "      <td>0.069632</td>\n",
       "      <td>0.063261</td>\n",
       "    </tr>\n",
       "    <tr>\n",
       "      <th>global_rate_positive_words</th>\n",
       "      <td>0.204953</td>\n",
       "      <td>-0.059892</td>\n",
       "      <td>0.128756</td>\n",
       "      <td>0.281476</td>\n",
       "      <td>0.385046</td>\n",
       "      <td>0.333297</td>\n",
       "      <td>0.060294</td>\n",
       "      <td>0.121749</td>\n",
       "      <td>-0.033205</td>\n",
       "      <td>0.073486</td>\n",
       "      <td>...</td>\n",
       "      <td>-0.113979</td>\n",
       "      <td>0.470299</td>\n",
       "      <td>-0.121001</td>\n",
       "      <td>-0.103179</td>\n",
       "      <td>-0.066773</td>\n",
       "      <td>0.114925</td>\n",
       "      <td>0.140583</td>\n",
       "      <td>-0.144899</td>\n",
       "      <td>0.106923</td>\n",
       "      <td>0.063263</td>\n",
       "    </tr>\n",
       "    <tr>\n",
       "      <th>global_rate_negative_words</th>\n",
       "      <td>0.002385</td>\n",
       "      <td>0.016734</td>\n",
       "      <td>0.132326</td>\n",
       "      <td>0.159500</td>\n",
       "      <td>0.259983</td>\n",
       "      <td>0.206277</td>\n",
       "      <td>0.029647</td>\n",
       "      <td>0.009576</td>\n",
       "      <td>0.021930</td>\n",
       "      <td>0.185719</td>\n",
       "      <td>...</td>\n",
       "      <td>0.054070</td>\n",
       "      <td>0.173676</td>\n",
       "      <td>-0.348385</td>\n",
       "      <td>-0.477337</td>\n",
       "      <td>0.077015</td>\n",
       "      <td>0.088897</td>\n",
       "      <td>-0.136356</td>\n",
       "      <td>-0.050522</td>\n",
       "      <td>0.056825</td>\n",
       "      <td>-0.025461</td>\n",
       "    </tr>\n",
       "    <tr>\n",
       "      <th>rate_positive_words</th>\n",
       "      <td>0.196035</td>\n",
       "      <td>-0.063214</td>\n",
       "      <td>0.086351</td>\n",
       "      <td>0.433740</td>\n",
       "      <td>0.613226</td>\n",
       "      <td>0.478026</td>\n",
       "      <td>0.101117</td>\n",
       "      <td>0.139403</td>\n",
       "      <td>-0.017631</td>\n",
       "      <td>-0.046927</td>\n",
       "      <td>...</td>\n",
       "      <td>0.042640</td>\n",
       "      <td>0.438755</td>\n",
       "      <td>-0.018045</td>\n",
       "      <td>0.108821</td>\n",
       "      <td>-0.194604</td>\n",
       "      <td>-0.019463</td>\n",
       "      <td>0.149168</td>\n",
       "      <td>-0.025449</td>\n",
       "      <td>-0.000820</td>\n",
       "      <td>0.044742</td>\n",
       "    </tr>\n",
       "    <tr>\n",
       "      <th>rate_negative_words</th>\n",
       "      <td>-0.082289</td>\n",
       "      <td>0.035342</td>\n",
       "      <td>0.105917</td>\n",
       "      <td>0.176962</td>\n",
       "      <td>0.311449</td>\n",
       "      <td>0.218535</td>\n",
       "      <td>0.052651</td>\n",
       "      <td>-0.016000</td>\n",
       "      <td>0.034362</td>\n",
       "      <td>0.073870</td>\n",
       "      <td>...</td>\n",
       "      <td>0.188315</td>\n",
       "      <td>0.018611</td>\n",
       "      <td>-0.341362</td>\n",
       "      <td>-0.450012</td>\n",
       "      <td>0.032270</td>\n",
       "      <td>-0.007204</td>\n",
       "      <td>-0.184878</td>\n",
       "      <td>0.048815</td>\n",
       "      <td>-0.026857</td>\n",
       "      <td>-0.067573</td>\n",
       "    </tr>\n",
       "    <tr>\n",
       "      <th>avg_positive_polarity</th>\n",
       "      <td>0.121212</td>\n",
       "      <td>-0.043933</td>\n",
       "      <td>0.133063</td>\n",
       "      <td>0.409154</td>\n",
       "      <td>0.580316</td>\n",
       "      <td>0.448698</td>\n",
       "      <td>0.183253</td>\n",
       "      <td>0.094958</td>\n",
       "      <td>0.089082</td>\n",
       "      <td>0.097706</td>\n",
       "      <td>...</td>\n",
       "      <td>0.447839</td>\n",
       "      <td>0.695385</td>\n",
       "      <td>-0.262472</td>\n",
       "      <td>-0.220441</td>\n",
       "      <td>-0.131197</td>\n",
       "      <td>0.047387</td>\n",
       "      <td>0.081971</td>\n",
       "      <td>0.015905</td>\n",
       "      <td>0.095758</td>\n",
       "      <td>0.019007</td>\n",
       "    </tr>\n",
       "    <tr>\n",
       "      <th>min_positive_polarity</th>\n",
       "      <td>0.053334</td>\n",
       "      <td>-0.025126</td>\n",
       "      <td>-0.265268</td>\n",
       "      <td>0.406762</td>\n",
       "      <td>0.227301</td>\n",
       "      <td>0.320487</td>\n",
       "      <td>-0.090368</td>\n",
       "      <td>-0.073678</td>\n",
       "      <td>-0.034463</td>\n",
       "      <td>-0.013930</td>\n",
       "      <td>...</td>\n",
       "      <td>1.000000</td>\n",
       "      <td>-0.005683</td>\n",
       "      <td>-0.051602</td>\n",
       "      <td>0.100758</td>\n",
       "      <td>-0.179047</td>\n",
       "      <td>0.004773</td>\n",
       "      <td>-0.000649</td>\n",
       "      <td>0.015887</td>\n",
       "      <td>0.008161</td>\n",
       "      <td>-0.032038</td>\n",
       "    </tr>\n",
       "    <tr>\n",
       "      <th>max_positive_polarity</th>\n",
       "      <td>0.091992</td>\n",
       "      <td>-0.013712</td>\n",
       "      <td>0.417965</td>\n",
       "      <td>0.138506</td>\n",
       "      <td>0.518774</td>\n",
       "      <td>0.257142</td>\n",
       "      <td>0.286219</td>\n",
       "      <td>0.186816</td>\n",
       "      <td>0.158222</td>\n",
       "      <td>0.124785</td>\n",
       "      <td>...</td>\n",
       "      <td>-0.005683</td>\n",
       "      <td>1.000000</td>\n",
       "      <td>-0.259177</td>\n",
       "      <td>-0.352004</td>\n",
       "      <td>0.002566</td>\n",
       "      <td>0.051292</td>\n",
       "      <td>0.078900</td>\n",
       "      <td>-0.018061</td>\n",
       "      <td>0.081100</td>\n",
       "      <td>0.033220</td>\n",
       "    </tr>\n",
       "    <tr>\n",
       "      <th>avg_negative_polarity</th>\n",
       "      <td>0.007344</td>\n",
       "      <td>-0.018506</td>\n",
       "      <td>-0.137432</td>\n",
       "      <td>-0.204364</td>\n",
       "      <td>-0.344362</td>\n",
       "      <td>-0.243355</td>\n",
       "      <td>-0.148775</td>\n",
       "      <td>-0.055201</td>\n",
       "      <td>-0.067512</td>\n",
       "      <td>-0.118924</td>\n",
       "      <td>...</td>\n",
       "      <td>-0.051602</td>\n",
       "      <td>-0.259177</td>\n",
       "      <td>1.000000</td>\n",
       "      <td>0.748434</td>\n",
       "      <td>0.573856</td>\n",
       "      <td>-0.074182</td>\n",
       "      <td>0.087377</td>\n",
       "      <td>-0.010838</td>\n",
       "      <td>-0.075029</td>\n",
       "      <td>-0.003512</td>\n",
       "    </tr>\n",
       "    <tr>\n",
       "      <th>min_negative_polarity</th>\n",
       "      <td>0.072338</td>\n",
       "      <td>-0.034713</td>\n",
       "      <td>-0.456712</td>\n",
       "      <td>0.043886</td>\n",
       "      <td>-0.302507</td>\n",
       "      <td>-0.082221</td>\n",
       "      <td>-0.260927</td>\n",
       "      <td>-0.117561</td>\n",
       "      <td>-0.135326</td>\n",
       "      <td>-0.141710</td>\n",
       "      <td>...</td>\n",
       "      <td>0.100758</td>\n",
       "      <td>-0.352004</td>\n",
       "      <td>0.748434</td>\n",
       "      <td>1.000000</td>\n",
       "      <td>0.073281</td>\n",
       "      <td>-0.055510</td>\n",
       "      <td>0.080991</td>\n",
       "      <td>-0.015639</td>\n",
       "      <td>-0.058364</td>\n",
       "      <td>-0.004899</td>\n",
       "    </tr>\n",
       "    <tr>\n",
       "      <th>max_negative_polarity</th>\n",
       "      <td>-0.061903</td>\n",
       "      <td>0.014306</td>\n",
       "      <td>0.227250</td>\n",
       "      <td>-0.328148</td>\n",
       "      <td>-0.191661</td>\n",
       "      <td>-0.259059</td>\n",
       "      <td>0.058417</td>\n",
       "      <td>0.040353</td>\n",
       "      <td>0.047311</td>\n",
       "      <td>0.029729</td>\n",
       "      <td>...</td>\n",
       "      <td>-0.179047</td>\n",
       "      <td>0.002566</td>\n",
       "      <td>0.573856</td>\n",
       "      <td>0.073281</td>\n",
       "      <td>1.000000</td>\n",
       "      <td>-0.017283</td>\n",
       "      <td>-0.000684</td>\n",
       "      <td>-0.000966</td>\n",
       "      <td>-0.017446</td>\n",
       "      <td>0.003100</td>\n",
       "    </tr>\n",
       "    <tr>\n",
       "      <th>title_subjectivity</th>\n",
       "      <td>-0.017477</td>\n",
       "      <td>0.084982</td>\n",
       "      <td>0.003779</td>\n",
       "      <td>-0.006015</td>\n",
       "      <td>-0.029781</td>\n",
       "      <td>-0.027690</td>\n",
       "      <td>0.037902</td>\n",
       "      <td>-0.011508</td>\n",
       "      <td>0.044340</td>\n",
       "      <td>0.063295</td>\n",
       "      <td>...</td>\n",
       "      <td>0.004773</td>\n",
       "      <td>0.051292</td>\n",
       "      <td>-0.074182</td>\n",
       "      <td>-0.055510</td>\n",
       "      <td>-0.017283</td>\n",
       "      <td>1.000000</td>\n",
       "      <td>0.228639</td>\n",
       "      <td>-0.501053</td>\n",
       "      <td>0.716236</td>\n",
       "      <td>0.025859</td>\n",
       "    </tr>\n",
       "    <tr>\n",
       "      <th>title_sentiment_polarity</th>\n",
       "      <td>0.039982</td>\n",
       "      <td>0.005281</td>\n",
       "      <td>0.019752</td>\n",
       "      <td>-0.022272</td>\n",
       "      <td>-0.005173</td>\n",
       "      <td>-0.030829</td>\n",
       "      <td>0.035266</td>\n",
       "      <td>0.024899</td>\n",
       "      <td>0.044743</td>\n",
       "      <td>0.016383</td>\n",
       "      <td>...</td>\n",
       "      <td>-0.000649</td>\n",
       "      <td>0.078900</td>\n",
       "      <td>0.087377</td>\n",
       "      <td>0.080991</td>\n",
       "      <td>-0.000684</td>\n",
       "      <td>0.228639</td>\n",
       "      <td>1.000000</td>\n",
       "      <td>-0.246092</td>\n",
       "      <td>0.402163</td>\n",
       "      <td>0.045289</td>\n",
       "    </tr>\n",
       "    <tr>\n",
       "      <th>abs_title_subjectivity</th>\n",
       "      <td>0.008859</td>\n",
       "      <td>-0.149260</td>\n",
       "      <td>0.010904</td>\n",
       "      <td>-0.007195</td>\n",
       "      <td>0.017883</td>\n",
       "      <td>0.009044</td>\n",
       "      <td>0.009212</td>\n",
       "      <td>0.008665</td>\n",
       "      <td>-0.009668</td>\n",
       "      <td>-0.026341</td>\n",
       "      <td>...</td>\n",
       "      <td>0.015887</td>\n",
       "      <td>-0.018061</td>\n",
       "      <td>-0.010838</td>\n",
       "      <td>-0.015639</td>\n",
       "      <td>-0.000966</td>\n",
       "      <td>-0.501053</td>\n",
       "      <td>-0.246092</td>\n",
       "      <td>1.000000</td>\n",
       "      <td>-0.412612</td>\n",
       "      <td>0.004831</td>\n",
       "    </tr>\n",
       "    <tr>\n",
       "      <th>abs_title_sentiment_polarity</th>\n",
       "      <td>-0.001853</td>\n",
       "      <td>0.048752</td>\n",
       "      <td>0.011489</td>\n",
       "      <td>-0.018025</td>\n",
       "      <td>-0.026993</td>\n",
       "      <td>-0.036859</td>\n",
       "      <td>0.050265</td>\n",
       "      <td>-0.010459</td>\n",
       "      <td>0.054453</td>\n",
       "      <td>0.053946</td>\n",
       "      <td>...</td>\n",
       "      <td>0.008161</td>\n",
       "      <td>0.081100</td>\n",
       "      <td>-0.075029</td>\n",
       "      <td>-0.058364</td>\n",
       "      <td>-0.017446</td>\n",
       "      <td>0.716236</td>\n",
       "      <td>0.402163</td>\n",
       "      <td>-0.412612</td>\n",
       "      <td>1.000000</td>\n",
       "      <td>0.029515</td>\n",
       "    </tr>\n",
       "    <tr>\n",
       "      <th>shares</th>\n",
       "      <td>0.036572</td>\n",
       "      <td>-0.042050</td>\n",
       "      <td>0.047821</td>\n",
       "      <td>-0.049100</td>\n",
       "      <td>-0.013188</td>\n",
       "      <td>-0.050807</td>\n",
       "      <td>0.077652</td>\n",
       "      <td>0.043162</td>\n",
       "      <td>0.055927</td>\n",
       "      <td>-0.002898</td>\n",
       "      <td>...</td>\n",
       "      <td>-0.032038</td>\n",
       "      <td>0.033220</td>\n",
       "      <td>-0.003512</td>\n",
       "      <td>-0.004899</td>\n",
       "      <td>0.003100</td>\n",
       "      <td>0.025859</td>\n",
       "      <td>0.045289</td>\n",
       "      <td>0.004831</td>\n",
       "      <td>0.029515</td>\n",
       "      <td>1.000000</td>\n",
       "    </tr>\n",
       "  </tbody>\n",
       "</table>\n",
       "<p>60 rows × 60 columns</p>\n",
       "</div>"
      ],
      "text/plain": [
       "                                timedelta  n_tokens_title  n_tokens_content  \\\n",
       "timedelta                        1.000000       -0.236009         -0.072766   \n",
       "n_tokens_title                  -0.236009        1.000000          0.031569   \n",
       "n_tokens_content                -0.072766        0.031569          1.000000   \n",
       "n_unique_tokens                  0.197873       -0.056043         -0.416598   \n",
       "n_non_stop_words                 0.146491       -0.039880          0.199211   \n",
       "n_non_stop_unique_tokens         0.178275       -0.048125         -0.238594   \n",
       "num_hrefs                        0.000453       -0.042072          0.426989   \n",
       "num_self_hrefs                   0.068202       -0.006600          0.303656   \n",
       "num_imgs                        -0.020545        0.000518          0.357074   \n",
       "num_videos                      -0.005542        0.052735          0.107137   \n",
       "average_token_length             0.119298       -0.067791          0.164262   \n",
       "num_keywords                     0.055981       -0.001522          0.070692   \n",
       "data_channel_is_lifestyle        0.056793       -0.070580          0.032286   \n",
       " data_channel_is_entertainment  -0.049532        0.134636          0.064944   \n",
       "data_channel_is_bus              0.062511       -0.028555         -0.018240   \n",
       "data_channel_is_socmed           0.073001       -0.087748          0.028435   \n",
       "data_channel_is_tech             0.083177       -0.043981          0.017566   \n",
       "data_channel_is_world           -0.177018        0.046495          0.060179   \n",
       "kw_min_min                       0.591730       -0.106241         -0.057375   \n",
       "kw_max_min                       0.032445       -0.004728          0.002778   \n",
       "kw_avg_min                       0.147561       -0.034009         -0.001909   \n",
       "kw_min_max                      -0.077000        0.010580         -0.022371   \n",
       "kw_max_max                      -0.639926        0.118497          0.063626   \n",
       "kw_avg_max                      -0.494588        0.105280         -0.090259   \n",
       "kw_min_avg                      -0.157242       -0.002050         -0.027170   \n",
       "kw_max_avg                      -0.051891        0.006275         -0.027877   \n",
       "kw_avg_avg                      -0.164070        0.002881         -0.078951   \n",
       "self_reference_min_shares       -0.013325        0.000094         -0.026724   \n",
       "self_reference_max_shares       -0.015609        0.001031          0.026634   \n",
       "self_reference_avg_sharess      -0.016554        0.003141         -0.011233   \n",
       "weekday_is_monday               -0.003507        0.002381          0.000450   \n",
       "weekday_is_tuesday              -0.002979        0.007871         -0.005187   \n",
       "weekday_is_wednesday             0.008601        0.010620         -0.021434   \n",
       "weekday_is_thursday              0.002737       -0.014178         -0.006007   \n",
       "weekday_is_friday               -0.003494       -0.001738         -0.014521   \n",
       "weekday_is_saturday             -0.010298       -0.012109          0.038205   \n",
       "weekday_is_sunday                0.006894        0.003533          0.034514   \n",
       "is_weekend                      -0.002197       -0.006010          0.053171   \n",
       "LDA_00                           0.082791       -0.071198          0.011338   \n",
       "LDA_01                           0.001828        0.063344         -0.002983   \n",
       "LDA_02                          -0.149286        0.036622          0.091859   \n",
       "LDA_03                          -0.023506        0.043058         -0.130969   \n",
       "LDA_04                           0.095239       -0.062603          0.030468   \n",
       "global_subjectivity              0.126758       -0.053311          0.130186   \n",
       "global_sentiment_polarity        0.161222       -0.067982          0.012959   \n",
       "global_rate_positive_words       0.204953       -0.059892          0.128756   \n",
       "global_rate_negative_words       0.002385        0.016734          0.132326   \n",
       "rate_positive_words              0.196035       -0.063214          0.086351   \n",
       "rate_negative_words             -0.082289        0.035342          0.105917   \n",
       "avg_positive_polarity            0.121212       -0.043933          0.133063   \n",
       "min_positive_polarity            0.053334       -0.025126         -0.265268   \n",
       "max_positive_polarity            0.091992       -0.013712          0.417965   \n",
       "avg_negative_polarity            0.007344       -0.018506         -0.137432   \n",
       "min_negative_polarity            0.072338       -0.034713         -0.456712   \n",
       "max_negative_polarity           -0.061903        0.014306          0.227250   \n",
       "title_subjectivity              -0.017477        0.084982          0.003779   \n",
       "title_sentiment_polarity         0.039982        0.005281          0.019752   \n",
       "abs_title_subjectivity           0.008859       -0.149260          0.010904   \n",
       "abs_title_sentiment_polarity    -0.001853        0.048752          0.011489   \n",
       "shares                           0.036572       -0.042050          0.047821   \n",
       "\n",
       "                                n_unique_tokens  n_non_stop_words  \\\n",
       "timedelta                              0.197873          0.146491   \n",
       "n_tokens_title                        -0.056043         -0.039880   \n",
       "n_tokens_content                      -0.416598          0.199211   \n",
       "n_unique_tokens                        1.000000          0.667108   \n",
       "n_non_stop_words                       0.667108          1.000000   \n",
       "n_non_stop_unique_tokens               0.937128          0.757132   \n",
       "num_hrefs                             -0.121405          0.165651   \n",
       "num_self_hrefs                        -0.059668          0.144449   \n",
       "num_imgs                              -0.246679          0.012173   \n",
       "num_videos                             0.019867          0.016497   \n",
       "average_token_length                   0.643580          0.940707   \n",
       "num_keywords                          -0.074978         -0.023537   \n",
       "data_channel_is_lifestyle             -0.010448          0.028132   \n",
       " data_channel_is_entertainment         0.001213         -0.000729   \n",
       "data_channel_is_bus                    0.051839          0.064742   \n",
       "data_channel_is_socmed                 0.013370          0.033046   \n",
       "data_channel_is_tech                   0.004465          0.073595   \n",
       "data_channel_is_world                 -0.077329         -0.000545   \n",
       "kw_min_min                             0.091382          0.048115   \n",
       "kw_max_min                            -0.001772          0.000407   \n",
       "kw_avg_min                             0.013902          0.017986   \n",
       "kw_min_max                            -0.005262         -0.040397   \n",
       "kw_max_max                            -0.097828         -0.052023   \n",
       "kw_avg_max                            -0.045293         -0.165602   \n",
       "kw_min_avg                            -0.025341         -0.074184   \n",
       "kw_max_avg                            -0.007358         -0.047091   \n",
       "kw_avg_avg                            -0.029980         -0.142213   \n",
       "self_reference_min_shares              0.041051          0.031929   \n",
       "self_reference_max_shares              0.022775          0.040887   \n",
       "self_reference_avg_sharess             0.042382          0.042249   \n",
       "weekday_is_monday                      0.004495          0.005609   \n",
       "weekday_is_tuesday                     0.003235          0.002100   \n",
       "weekday_is_wednesday                   0.007299         -0.003373   \n",
       "weekday_is_thursday                    0.003451          0.001629   \n",
       "weekday_is_friday                      0.014061          0.000625   \n",
       "weekday_is_saturday                   -0.038052         -0.009215   \n",
       "weekday_is_sunday                     -0.012166         -0.001011   \n",
       "is_weekend                            -0.036320         -0.007345   \n",
       "LDA_00                                 0.039270          0.074595   \n",
       "LDA_01                                 0.054974          0.008058   \n",
       "LDA_02                                -0.081476          0.016288   \n",
       "LDA_03                                 0.003795         -0.182816   \n",
       "LDA_04                                -0.000265          0.091185   \n",
       "global_subjectivity                    0.464631          0.651891   \n",
       "global_sentiment_polarity              0.170846          0.208827   \n",
       "global_rate_positive_words             0.281476          0.385046   \n",
       "global_rate_negative_words             0.159500          0.259983   \n",
       "rate_positive_words                    0.433740          0.613226   \n",
       "rate_negative_words                    0.176962          0.311449   \n",
       "avg_positive_polarity                  0.409154          0.580316   \n",
       "min_positive_polarity                  0.406762          0.227301   \n",
       "max_positive_polarity                  0.138506          0.518774   \n",
       "avg_negative_polarity                 -0.204364         -0.344362   \n",
       "min_negative_polarity                  0.043886         -0.302507   \n",
       "max_negative_polarity                 -0.328148         -0.191661   \n",
       "title_subjectivity                    -0.006015         -0.029781   \n",
       "title_sentiment_polarity              -0.022272         -0.005173   \n",
       "abs_title_subjectivity                -0.007195          0.017883   \n",
       "abs_title_sentiment_polarity          -0.018025         -0.026993   \n",
       "shares                                -0.049100         -0.013188   \n",
       "\n",
       "                                n_non_stop_unique_tokens  num_hrefs  \\\n",
       "timedelta                                       0.178275   0.000453   \n",
       "n_tokens_title                                 -0.048125  -0.042072   \n",
       "n_tokens_content                               -0.238594   0.426989   \n",
       "n_unique_tokens                                 0.937128  -0.121405   \n",
       "n_non_stop_words                                0.757132   0.165651   \n",
       "n_non_stop_unique_tokens                        1.000000  -0.112844   \n",
       "num_hrefs                                      -0.112844   1.000000   \n",
       "num_self_hrefs                                 -0.031421   0.397668   \n",
       "num_imgs                                       -0.298722   0.343229   \n",
       "num_videos                                      0.009469   0.109066   \n",
       "average_token_length                            0.697328   0.218381   \n",
       "num_keywords                                   -0.075369   0.125892   \n",
       "data_channel_is_lifestyle                       0.016686   0.055645   \n",
       " data_channel_is_entertainment                 -0.010479  -0.003569   \n",
       "data_channel_is_bus                             0.085131  -0.063768   \n",
       "data_channel_is_socmed                          0.017066   0.064319   \n",
       "data_channel_is_tech                            0.028773  -0.061627   \n",
       "data_channel_is_world                          -0.027648  -0.024356   \n",
       "kw_min_min                                      0.082067  -0.037591   \n",
       "kw_max_min                                     -0.001463   0.014440   \n",
       "kw_avg_min                                      0.016342   0.009926   \n",
       "kw_min_max                                     -0.017382  -0.022232   \n",
       "kw_max_max                                     -0.087437   0.048057   \n",
       "kw_avg_max                                     -0.092704  -0.028245   \n",
       "kw_min_avg                                     -0.064109   0.053524   \n",
       "kw_max_avg                                     -0.035250   0.061585   \n",
       "kw_avg_avg                                     -0.102606   0.109866   \n",
       "self_reference_min_shares                       0.034659  -0.006894   \n",
       "self_reference_max_shares                       0.022200   0.076265   \n",
       "self_reference_avg_sharess                      0.036526   0.022909   \n",
       "weekday_is_monday                               0.006804  -0.007729   \n",
       "weekday_is_tuesday                              0.002203  -0.011084   \n",
       "weekday_is_wednesday                            0.008574  -0.031825   \n",
       "weekday_is_thursday                             0.002741  -0.013306   \n",
       "weekday_is_friday                               0.013128  -0.001155   \n",
       "weekday_is_saturday                            -0.033875   0.062326   \n",
       "weekday_is_sunday                              -0.017572   0.041807   \n",
       "is_weekend                                     -0.037383   0.075880   \n",
       "LDA_00                                          0.083394  -0.022296   \n",
       "LDA_01                                          0.042872  -0.052765   \n",
       "LDA_02                                         -0.029490   0.000052   \n",
       "LDA_03                                         -0.120612   0.115426   \n",
       "LDA_04                                          0.040476  -0.054163   \n",
       "global_subjectivity                             0.505801   0.198600   \n",
       "global_sentiment_polarity                       0.170138   0.088604   \n",
       "global_rate_positive_words                      0.333297   0.060294   \n",
       "global_rate_negative_words                      0.206277   0.029647   \n",
       "rate_positive_words                             0.478026   0.101117   \n",
       "rate_negative_words                             0.218535   0.052651   \n",
       "avg_positive_polarity                           0.448698   0.183253   \n",
       "min_positive_polarity                           0.320487  -0.090368   \n",
       "max_positive_polarity                           0.257142   0.286219   \n",
       "avg_negative_polarity                          -0.243355  -0.148775   \n",
       "min_negative_polarity                          -0.082221  -0.260927   \n",
       "max_negative_polarity                          -0.259059   0.058417   \n",
       "title_subjectivity                             -0.027690   0.037902   \n",
       "title_sentiment_polarity                       -0.030829   0.035266   \n",
       "abs_title_subjectivity                          0.009044   0.009212   \n",
       "abs_title_sentiment_polarity                   -0.036859   0.050265   \n",
       "shares                                         -0.050807   0.077652   \n",
       "\n",
       "                                num_self_hrefs  num_imgs  num_videos  \\\n",
       "timedelta                             0.068202 -0.020545   -0.005542   \n",
       "n_tokens_title                       -0.006600  0.000518    0.052735   \n",
       "n_tokens_content                      0.303656  0.357074    0.107137   \n",
       "n_unique_tokens                      -0.059668 -0.246679    0.019867   \n",
       "n_non_stop_words                      0.144449  0.012173    0.016497   \n",
       "n_non_stop_unique_tokens             -0.031421 -0.298722    0.009469   \n",
       "num_hrefs                             0.397668  0.343229    0.109066   \n",
       "num_self_hrefs                        1.000000  0.252016    0.070527   \n",
       "num_imgs                              0.252016  1.000000   -0.061229   \n",
       "num_videos                            0.070527 -0.061229    1.000000   \n",
       "average_token_length                  0.118386  0.027287   -0.008242   \n",
       "num_keywords                          0.101544  0.080925   -0.025914   \n",
       "data_channel_is_lifestyle            -0.046152  0.008196   -0.043296   \n",
       " data_channel_is_entertainment        0.025741  0.108152    0.158825   \n",
       "data_channel_is_bus                  -0.060580 -0.140980   -0.071014   \n",
       "data_channel_is_socmed                0.096324  0.001416   -0.006762   \n",
       "data_channel_is_tech                  0.172222  0.001560   -0.092545   \n",
       "data_channel_is_world                -0.123770 -0.107475   -0.089094   \n",
       "kw_min_min                           -0.009836 -0.036515    0.016430   \n",
       "kw_max_min                            0.001084  0.001910    0.002818   \n",
       "kw_avg_min                            0.000253 -0.004507   -0.006933   \n",
       "kw_min_max                           -0.026950 -0.002349    0.042923   \n",
       "kw_max_max                            0.002066  0.044020   -0.004229   \n",
       "kw_avg_max                           -0.065622 -0.004821    0.128168   \n",
       "kw_min_avg                            0.039679  0.075698    0.058425   \n",
       "kw_max_avg                           -0.018924  0.052895    0.051269   \n",
       "kw_avg_avg                           -0.017815  0.130236    0.112729   \n",
       "self_reference_min_shares            -0.029100  0.002447   -0.001556   \n",
       "self_reference_max_shares             0.122866  0.035968    0.068852   \n",
       "self_reference_avg_sharess            0.021941  0.017942    0.034551   \n",
       "weekday_is_monday                     0.012080 -0.005280    0.012007   \n",
       "weekday_is_tuesday                    0.001539 -0.005166    0.006657   \n",
       "weekday_is_wednesday                 -0.018908 -0.022020   -0.001637   \n",
       "weekday_is_thursday                  -0.017298 -0.007652   -0.003565   \n",
       "weekday_is_friday                    -0.022444 -0.008036   -0.000676   \n",
       "weekday_is_saturday                   0.050618  0.035117   -0.005735   \n",
       "weekday_is_sunday                     0.019543  0.040337   -0.013835   \n",
       "is_weekend                            0.050830  0.055325   -0.014465   \n",
       "LDA_00                               -0.027227 -0.147766   -0.073991   \n",
       "LDA_01                               -0.001648  0.057239    0.018847   \n",
       "LDA_02                               -0.088948 -0.088709   -0.090772   \n",
       "LDA_03                               -0.025062  0.197016    0.272451   \n",
       "LDA_04                                0.139623 -0.016139   -0.127031   \n",
       "global_subjectivity                   0.113750  0.076469    0.080459   \n",
       "global_sentiment_polarity             0.091981  0.023596   -0.032452   \n",
       "global_rate_positive_words            0.121749 -0.033205    0.073486   \n",
       "global_rate_negative_words            0.009576  0.021930    0.185719   \n",
       "rate_positive_words                   0.139403 -0.017631   -0.046927   \n",
       "rate_negative_words                  -0.016000  0.034362    0.073870   \n",
       "avg_positive_polarity                 0.094958  0.089082    0.097706   \n",
       "min_positive_polarity                -0.073678 -0.034463   -0.013930   \n",
       "max_positive_polarity                 0.186816  0.158222    0.124785   \n",
       "avg_negative_polarity                -0.055201 -0.067512   -0.118924   \n",
       "min_negative_polarity                -0.117561 -0.135326   -0.141710   \n",
       "max_negative_polarity                 0.040353  0.047311    0.029729   \n",
       "title_subjectivity                   -0.011508  0.044340    0.063295   \n",
       "title_sentiment_polarity              0.024899  0.044743    0.016383   \n",
       "abs_title_subjectivity                0.008665 -0.009668   -0.026341   \n",
       "abs_title_sentiment_polarity         -0.010459  0.054453    0.053946   \n",
       "shares                                0.043162  0.055927   -0.002898   \n",
       "\n",
       "                                  ...     min_positive_polarity  \\\n",
       "timedelta                         ...                  0.053334   \n",
       "n_tokens_title                    ...                 -0.025126   \n",
       "n_tokens_content                  ...                 -0.265268   \n",
       "n_unique_tokens                   ...                  0.406762   \n",
       "n_non_stop_words                  ...                  0.227301   \n",
       "n_non_stop_unique_tokens          ...                  0.320487   \n",
       "num_hrefs                         ...                 -0.090368   \n",
       "num_self_hrefs                    ...                 -0.073678   \n",
       "num_imgs                          ...                 -0.034463   \n",
       "num_videos                        ...                 -0.013930   \n",
       "average_token_length              ...                  0.211486   \n",
       "num_keywords                      ...                 -0.016189   \n",
       "data_channel_is_lifestyle         ...                 -0.003067   \n",
       " data_channel_is_entertainment    ...                 -0.016302   \n",
       "data_channel_is_bus               ...                 -0.049361   \n",
       "data_channel_is_socmed            ...                 -0.049185   \n",
       "data_channel_is_tech              ...                  0.030302   \n",
       "data_channel_is_world             ...                 -0.049841   \n",
       "kw_min_min                        ...                  0.023058   \n",
       "kw_max_min                        ...                  0.004494   \n",
       "kw_avg_min                        ...                  0.005358   \n",
       "kw_min_max                        ...                  0.001294   \n",
       "kw_max_max                        ...                 -0.024916   \n",
       "kw_avg_max                        ...                  0.006241   \n",
       "kw_min_avg                        ...                  0.019931   \n",
       "kw_max_avg                        ...                  0.019738   \n",
       "kw_avg_avg                        ...                  0.048427   \n",
       "self_reference_min_shares         ...                  0.025511   \n",
       "self_reference_max_shares         ...                 -0.002399   \n",
       "self_reference_avg_sharess        ...                  0.016990   \n",
       "weekday_is_monday                 ...                 -0.000114   \n",
       "weekday_is_tuesday                ...                 -0.007949   \n",
       "weekday_is_wednesday              ...                  0.001837   \n",
       "weekday_is_thursday               ...                  0.001100   \n",
       "weekday_is_friday                 ...                  0.014773   \n",
       "weekday_is_saturday               ...                 -0.019523   \n",
       "weekday_is_sunday                 ...                  0.005800   \n",
       "is_weekend                        ...                 -0.009613   \n",
       "LDA_00                            ...                 -0.096118   \n",
       "LDA_01                            ...                  0.024219   \n",
       "LDA_02                            ...                 -0.056836   \n",
       "LDA_03                            ...                  0.097607   \n",
       "LDA_04                            ...                  0.028893   \n",
       "global_subjectivity               ...                  0.229216   \n",
       "global_sentiment_polarity         ...                  0.082917   \n",
       "global_rate_positive_words        ...                 -0.113979   \n",
       "global_rate_negative_words        ...                  0.054070   \n",
       "rate_positive_words               ...                  0.042640   \n",
       "rate_negative_words               ...                  0.188315   \n",
       "avg_positive_polarity             ...                  0.447839   \n",
       "min_positive_polarity             ...                  1.000000   \n",
       "max_positive_polarity             ...                 -0.005683   \n",
       "avg_negative_polarity             ...                 -0.051602   \n",
       "min_negative_polarity             ...                  0.100758   \n",
       "max_negative_polarity             ...                 -0.179047   \n",
       "title_subjectivity                ...                  0.004773   \n",
       "title_sentiment_polarity          ...                 -0.000649   \n",
       "abs_title_subjectivity            ...                  0.015887   \n",
       "abs_title_sentiment_polarity      ...                  0.008161   \n",
       "shares                            ...                 -0.032038   \n",
       "\n",
       "                                max_positive_polarity  avg_negative_polarity  \\\n",
       "timedelta                                    0.091992               0.007344   \n",
       "n_tokens_title                              -0.013712              -0.018506   \n",
       "n_tokens_content                             0.417965              -0.137432   \n",
       "n_unique_tokens                              0.138506              -0.204364   \n",
       "n_non_stop_words                             0.518774              -0.344362   \n",
       "n_non_stop_unique_tokens                     0.257142              -0.243355   \n",
       "num_hrefs                                    0.286219              -0.148775   \n",
       "num_self_hrefs                               0.186816              -0.055201   \n",
       "num_imgs                                     0.158222              -0.067512   \n",
       "num_videos                                   0.124785              -0.118924   \n",
       "average_token_length                         0.451383              -0.310572   \n",
       "num_keywords                                 0.063048               0.023460   \n",
       "data_channel_is_lifestyle                    0.068905              -0.007507   \n",
       " data_channel_is_entertainment               0.081186              -0.134033   \n",
       "data_channel_is_bus                          0.019504               0.060821   \n",
       "data_channel_is_socmed                       0.028126               0.006037   \n",
       "data_channel_is_tech                         0.028763               0.114139   \n",
       "data_channel_is_world                       -0.123944               0.021838   \n",
       "kw_min_min                                   0.021482               0.016757   \n",
       "kw_max_min                                   0.013024              -0.006519   \n",
       "kw_avg_min                                   0.025025              -0.004268   \n",
       "kw_min_max                                  -0.020517              -0.004677   \n",
       "kw_max_max                                  -0.021207              -0.018187   \n",
       "kw_avg_max                                  -0.097713              -0.018998   \n",
       "kw_min_avg                                  -0.015224              -0.019233   \n",
       "kw_max_avg                                   0.009300              -0.045455   \n",
       "kw_avg_avg                                  -0.006845              -0.065792   \n",
       "self_reference_min_shares                    0.002522              -0.030630   \n",
       "self_reference_max_shares                    0.037143              -0.047058   \n",
       "self_reference_avg_sharess                   0.018775              -0.044929   \n",
       "weekday_is_monday                            0.011374               0.001243   \n",
       "weekday_is_tuesday                          -0.006542               0.011597   \n",
       "weekday_is_wednesday                        -0.011708               0.010974   \n",
       "weekday_is_thursday                         -0.009265               0.006797   \n",
       "weekday_is_friday                           -0.014787              -0.006926   \n",
       "weekday_is_saturday                          0.026896              -0.017704   \n",
       "weekday_is_sunday                            0.021252              -0.021182   \n",
       "is_weekend                                   0.035151              -0.028526   \n",
       "LDA_00                                       0.053308               0.044295   \n",
       "LDA_01                                       0.043226              -0.106663   \n",
       "LDA_02                                      -0.110736               0.031123   \n",
       "LDA_03                                      -0.013350              -0.109841   \n",
       "LDA_04                                       0.042074               0.118957   \n",
       "global_subjectivity                          0.506233              -0.431697   \n",
       "global_sentiment_polarity                    0.430367               0.236928   \n",
       "global_rate_positive_words                   0.470299              -0.121001   \n",
       "global_rate_negative_words                   0.173676              -0.348385   \n",
       "rate_positive_words                          0.438755              -0.018045   \n",
       "rate_negative_words                          0.018611              -0.341362   \n",
       "avg_positive_polarity                        0.695385              -0.262472   \n",
       "min_positive_polarity                       -0.005683              -0.051602   \n",
       "max_positive_polarity                        1.000000              -0.259177   \n",
       "avg_negative_polarity                       -0.259177               1.000000   \n",
       "min_negative_polarity                       -0.352004               0.748434   \n",
       "max_negative_polarity                        0.002566               0.573856   \n",
       "title_subjectivity                           0.051292              -0.074182   \n",
       "title_sentiment_polarity                     0.078900               0.087377   \n",
       "abs_title_subjectivity                      -0.018061              -0.010838   \n",
       "abs_title_sentiment_polarity                 0.081100              -0.075029   \n",
       "shares                                       0.033220              -0.003512   \n",
       "\n",
       "                                min_negative_polarity  max_negative_polarity  \\\n",
       "timedelta                                    0.072338              -0.061903   \n",
       "n_tokens_title                              -0.034713               0.014306   \n",
       "n_tokens_content                            -0.456712               0.227250   \n",
       "n_unique_tokens                              0.043886              -0.328148   \n",
       "n_non_stop_words                            -0.302507              -0.191661   \n",
       "n_non_stop_unique_tokens                    -0.082221              -0.259059   \n",
       "num_hrefs                                   -0.260927               0.058417   \n",
       "num_self_hrefs                              -0.117561               0.040353   \n",
       "num_imgs                                    -0.135326               0.047311   \n",
       "num_videos                                  -0.141710               0.029729   \n",
       "average_token_length                        -0.266008              -0.186990   \n",
       "num_keywords                                 0.000669               0.027001   \n",
       "data_channel_is_lifestyle                   -0.022334               0.008892   \n",
       " data_channel_is_entertainment              -0.111539              -0.014087   \n",
       "data_channel_is_bus                          0.070496              -0.009748   \n",
       "data_channel_is_socmed                       0.007021              -0.013102   \n",
       "data_channel_is_tech                         0.119112               0.017147   \n",
       "data_channel_is_world                       -0.080204               0.075448   \n",
       "kw_min_min                                   0.051138              -0.027943   \n",
       "kw_max_min                                  -0.003213              -0.001606   \n",
       "kw_avg_min                                   0.003216              -0.007270   \n",
       "kw_min_max                                   0.001891              -0.006693   \n",
       "kw_max_max                                  -0.056042               0.029538   \n",
       "kw_avg_max                                   0.013644              -0.021596   \n",
       "kw_min_avg                                  -0.000670              -0.011286   \n",
       "kw_max_avg                                  -0.023062              -0.022102   \n",
       "kw_avg_avg                                  -0.013262              -0.044635   \n",
       "self_reference_min_shares                   -0.004781              -0.043124   \n",
       "self_reference_max_shares                   -0.040225              -0.021758   \n",
       "self_reference_avg_sharess                  -0.021120              -0.041424   \n",
       "weekday_is_monday                            0.000856               0.007535   \n",
       "weekday_is_tuesday                           0.013024              -0.000478   \n",
       "weekday_is_wednesday                         0.013073               0.002096   \n",
       "weekday_is_thursday                          0.005888              -0.000547   \n",
       "weekday_is_friday                            0.002079              -0.011127   \n",
       "weekday_is_saturday                         -0.031708               0.007871   \n",
       "weekday_is_sunday                           -0.024060              -0.004779   \n",
       "is_weekend                                  -0.040694               0.002047   \n",
       "LDA_00                                       0.050205              -0.012495   \n",
       "LDA_01                                      -0.067418              -0.033386   \n",
       "LDA_02                                      -0.079371               0.081181   \n",
       "LDA_03                                      -0.023339              -0.073370   \n",
       "LDA_04                                       0.107868               0.028800   \n",
       "global_subjectivity                         -0.340158              -0.213913   \n",
       "global_sentiment_polarity                    0.293682              -0.042274   \n",
       "global_rate_positive_words                  -0.103179              -0.066773   \n",
       "global_rate_negative_words                  -0.477337               0.077015   \n",
       "rate_positive_words                          0.108821              -0.194604   \n",
       "rate_negative_words                         -0.450012               0.032270   \n",
       "avg_positive_polarity                       -0.220441              -0.131197   \n",
       "min_positive_polarity                        0.100758              -0.179047   \n",
       "max_positive_polarity                       -0.352004               0.002566   \n",
       "avg_negative_polarity                        0.748434               0.573856   \n",
       "min_negative_polarity                        1.000000               0.073281   \n",
       "max_negative_polarity                        0.073281               1.000000   \n",
       "title_subjectivity                          -0.055510              -0.017283   \n",
       "title_sentiment_polarity                     0.080991              -0.000684   \n",
       "abs_title_subjectivity                      -0.015639              -0.000966   \n",
       "abs_title_sentiment_polarity                -0.058364              -0.017446   \n",
       "shares                                      -0.004899               0.003100   \n",
       "\n",
       "                                title_subjectivity  title_sentiment_polarity  \\\n",
       "timedelta                                -0.017477                  0.039982   \n",
       "n_tokens_title                            0.084982                  0.005281   \n",
       "n_tokens_content                          0.003779                  0.019752   \n",
       "n_unique_tokens                          -0.006015                 -0.022272   \n",
       "n_non_stop_words                         -0.029781                 -0.005173   \n",
       "n_non_stop_unique_tokens                 -0.027690                 -0.030829   \n",
       "num_hrefs                                 0.037902                  0.035266   \n",
       "num_self_hrefs                           -0.011508                  0.024899   \n",
       "num_imgs                                  0.044340                  0.044743   \n",
       "num_videos                                0.063295                  0.016383   \n",
       "average_token_length                     -0.041050                 -0.012960   \n",
       "num_keywords                              0.014299                  0.029232   \n",
       "data_channel_is_lifestyle                 0.004312                  0.039278   \n",
       " data_channel_is_entertainment            0.054239                 -0.009306   \n",
       "data_channel_is_bus                      -0.042139                  0.019057   \n",
       "data_channel_is_socmed                   -0.014970                  0.026066   \n",
       "data_channel_is_tech                     -0.041054                  0.026763   \n",
       "data_channel_is_world                    -0.060684                 -0.085357   \n",
       "kw_min_min                               -0.003170                  0.032088   \n",
       "kw_max_min                                0.011839                  0.015202   \n",
       "kw_avg_min                                0.007277                  0.017196   \n",
       "kw_min_max                                0.020526                  0.009098   \n",
       "kw_max_max                                0.004181                 -0.029618   \n",
       "kw_avg_max                                0.044194                 -0.011962   \n",
       "kw_min_avg                                0.041966                  0.026462   \n",
       "kw_max_avg                                0.043390                  0.021034   \n",
       "kw_avg_avg                                0.088587                  0.036500   \n",
       "self_reference_min_shares                 0.002078                 -0.000752   \n",
       "self_reference_max_shares                 0.010066                  0.002123   \n",
       "self_reference_avg_sharess                0.006738                 -0.000555   \n",
       "weekday_is_monday                        -0.011349                 -0.004614   \n",
       "weekday_is_tuesday                       -0.002120                  0.000826   \n",
       "weekday_is_wednesday                     -0.011190                 -0.014704   \n",
       "weekday_is_thursday                       0.003713                 -0.004981   \n",
       "weekday_is_friday                        -0.000647                 -0.006156   \n",
       "weekday_is_saturday                       0.008563                  0.024329   \n",
       "weekday_is_sunday                         0.024839                  0.021946   \n",
       "is_weekend                                0.024731                  0.033834   \n",
       "LDA_00                                   -0.045569                  0.033456   \n",
       "LDA_01                                    0.058640                 -0.008257   \n",
       "LDA_02                                   -0.071815                 -0.074845   \n",
       "LDA_03                                    0.121633                  0.025563   \n",
       "LDA_04                                   -0.052363                  0.024984   \n",
       "global_subjectivity                       0.113220                  0.035991   \n",
       "global_sentiment_polarity                 0.024823                  0.238680   \n",
       "global_rate_positive_words                0.114925                  0.140583   \n",
       "global_rate_negative_words                0.088897                 -0.136356   \n",
       "rate_positive_words                      -0.019463                  0.149168   \n",
       "rate_negative_words                      -0.007204                 -0.184878   \n",
       "avg_positive_polarity                     0.047387                  0.081971   \n",
       "min_positive_polarity                     0.004773                 -0.000649   \n",
       "max_positive_polarity                     0.051292                  0.078900   \n",
       "avg_negative_polarity                    -0.074182                  0.087377   \n",
       "min_negative_polarity                    -0.055510                  0.080991   \n",
       "max_negative_polarity                    -0.017283                 -0.000684   \n",
       "title_subjectivity                        1.000000                  0.228639   \n",
       "title_sentiment_polarity                  0.228639                  1.000000   \n",
       "abs_title_subjectivity                   -0.501053                 -0.246092   \n",
       "abs_title_sentiment_polarity              0.716236                  0.402163   \n",
       "shares                                    0.025859                  0.045289   \n",
       "\n",
       "                                abs_title_subjectivity  \\\n",
       "timedelta                                     0.008859   \n",
       "n_tokens_title                               -0.149260   \n",
       "n_tokens_content                              0.010904   \n",
       "n_unique_tokens                              -0.007195   \n",
       "n_non_stop_words                              0.017883   \n",
       "n_non_stop_unique_tokens                      0.009044   \n",
       "num_hrefs                                     0.009212   \n",
       "num_self_hrefs                                0.008665   \n",
       "num_imgs                                     -0.009668   \n",
       "num_videos                                   -0.026341   \n",
       "average_token_length                          0.026720   \n",
       "num_keywords                                 -0.009535   \n",
       "data_channel_is_lifestyle                     0.005769   \n",
       " data_channel_is_entertainment               -0.049868   \n",
       "data_channel_is_bus                          -0.004979   \n",
       "data_channel_is_socmed                        0.011879   \n",
       "data_channel_is_tech                          0.007123   \n",
       "data_channel_is_world                         0.056485   \n",
       "kw_min_min                                    0.006510   \n",
       "kw_max_min                                   -0.003048   \n",
       "kw_avg_min                                    0.001935   \n",
       "kw_min_max                                   -0.010067   \n",
       "kw_max_max                                   -0.008003   \n",
       "kw_avg_max                                   -0.013603   \n",
       "kw_min_avg                                   -0.015154   \n",
       "kw_max_avg                                   -0.013094   \n",
       "kw_avg_avg                                   -0.024281   \n",
       "self_reference_min_shares                     0.003229   \n",
       "self_reference_max_shares                    -0.003884   \n",
       "self_reference_avg_sharess                   -0.001086   \n",
       "weekday_is_monday                            -0.003326   \n",
       "weekday_is_tuesday                            0.010338   \n",
       "weekday_is_wednesday                          0.009346   \n",
       "weekday_is_thursday                           0.003816   \n",
       "weekday_is_friday                             0.011354   \n",
       "weekday_is_saturday                          -0.020578   \n",
       "weekday_is_sunday                            -0.028222   \n",
       "is_weekend                                   -0.035855   \n",
       "LDA_00                                       -0.002091   \n",
       "LDA_01                                       -0.072779   \n",
       "LDA_02                                        0.061531   \n",
       "LDA_03                                       -0.014237   \n",
       "LDA_04                                        0.010176   \n",
       "global_subjectivity                          -0.006322   \n",
       "global_sentiment_polarity                    -0.036225   \n",
       "global_rate_positive_words                   -0.144899   \n",
       "global_rate_negative_words                   -0.050522   \n",
       "rate_positive_words                          -0.025449   \n",
       "rate_negative_words                           0.048815   \n",
       "avg_positive_polarity                         0.015905   \n",
       "min_positive_polarity                         0.015887   \n",
       "max_positive_polarity                        -0.018061   \n",
       "avg_negative_polarity                        -0.010838   \n",
       "min_negative_polarity                        -0.015639   \n",
       "max_negative_polarity                        -0.000966   \n",
       "title_subjectivity                           -0.501053   \n",
       "title_sentiment_polarity                     -0.246092   \n",
       "abs_title_subjectivity                        1.000000   \n",
       "abs_title_sentiment_polarity                 -0.412612   \n",
       "shares                                        0.004831   \n",
       "\n",
       "                                abs_title_sentiment_polarity    shares  \n",
       "timedelta                                          -0.001853  0.036572  \n",
       "n_tokens_title                                      0.048752 -0.042050  \n",
       "n_tokens_content                                    0.011489  0.047821  \n",
       "n_unique_tokens                                    -0.018025 -0.049100  \n",
       "n_non_stop_words                                   -0.026993 -0.013188  \n",
       "n_non_stop_unique_tokens                           -0.036859 -0.050807  \n",
       "num_hrefs                                           0.050265  0.077652  \n",
       "num_self_hrefs                                     -0.010459  0.043162  \n",
       "num_imgs                                            0.054453  0.055927  \n",
       "num_videos                                          0.053946 -0.002898  \n",
       "average_token_length                               -0.036405 -0.025552  \n",
       "num_keywords                                        0.019581  0.065535  \n",
       "data_channel_is_lifestyle                           0.021136  0.031437  \n",
       " data_channel_is_entertainment                      0.038636 -0.105422  \n",
       "data_channel_is_bus                                -0.029128  0.001640  \n",
       "data_channel_is_socmed                             -0.002916  0.114944  \n",
       "data_channel_is_tech                               -0.042365  0.097379  \n",
       "data_channel_is_world                              -0.064343 -0.137431  \n",
       "kw_min_min                                          0.009405  0.039893  \n",
       "kw_max_min                                          0.015862  0.022472  \n",
       "kw_avg_min                                          0.011864  0.031629  \n",
       "kw_min_max                                          0.021940  0.007841  \n",
       "kw_max_max                                         -0.006918 -0.024916  \n",
       "kw_avg_max                                          0.032304  0.016025  \n",
       "kw_min_avg                                          0.053661  0.089510  \n",
       "kw_max_avg                                          0.046915  0.063157  \n",
       "kw_avg_avg                                          0.093308  0.147678  \n",
       "self_reference_min_shares                           0.004142  0.044588  \n",
       "self_reference_max_shares                           0.007145  0.054805  \n",
       "self_reference_avg_sharess                          0.006244  0.057195  \n",
       "weekday_is_monday                                  -0.010787 -0.022693  \n",
       "weekday_is_tuesday                                 -0.002177 -0.039181  \n",
       "weekday_is_wednesday                               -0.012382 -0.041756  \n",
       "weekday_is_thursday                                -0.005011 -0.025042  \n",
       "weekday_is_friday                                  -0.002889  0.009258  \n",
       "weekday_is_saturday                                 0.016149  0.101764  \n",
       "weekday_is_sunday                                   0.035482  0.089757  \n",
       "is_weekend                                          0.038128  0.139997  \n",
       "LDA_00                                             -0.024331  0.075626  \n",
       "LDA_01                                              0.038216 -0.076750  \n",
       "LDA_02                                             -0.078667 -0.136693  \n",
       "LDA_03                                              0.116608  0.039276  \n",
       "LDA_04                                             -0.044348  0.086734  \n",
       "global_subjectivity                                 0.089820  0.058290  \n",
       "global_sentiment_polarity                           0.069632  0.063261  \n",
       "global_rate_positive_words                          0.106923  0.063263  \n",
       "global_rate_negative_words                          0.056825 -0.025461  \n",
       "rate_positive_words                                -0.000820  0.044742  \n",
       "rate_negative_words                                -0.026857 -0.067573  \n",
       "avg_positive_polarity                               0.095758  0.019007  \n",
       "min_positive_polarity                               0.008161 -0.032038  \n",
       "max_positive_polarity                               0.081100  0.033220  \n",
       "avg_negative_polarity                              -0.075029 -0.003512  \n",
       "min_negative_polarity                              -0.058364 -0.004899  \n",
       "max_negative_polarity                              -0.017446  0.003100  \n",
       "title_subjectivity                                  0.716236  0.025859  \n",
       "title_sentiment_polarity                            0.402163  0.045289  \n",
       "abs_title_subjectivity                             -0.412612  0.004831  \n",
       "abs_title_sentiment_polarity                        1.000000  0.029515  \n",
       "shares                                              0.029515  1.000000  \n",
       "\n",
       "[60 rows x 60 columns]"
      ]
     },
     "execution_count": 446,
     "metadata": {},
     "output_type": "execute_result"
    }
   ],
   "source": [
    "correlation"
   ]
  },
  {
   "cell_type": "code",
   "execution_count": 447,
   "metadata": {},
   "outputs": [],
   "source": [
    "corre=df[df.columns[1:61]].corr()['shares'][:]"
   ]
  },
  {
   "cell_type": "code",
   "execution_count": 448,
   "metadata": {},
   "outputs": [],
   "source": [
    "dict2=corre.to_dict()"
   ]
  },
  {
   "cell_type": "code",
   "execution_count": 458,
   "metadata": {},
   "outputs": [],
   "source": [
    "# Nowhere we are able to see correlations above 0.5(both positive and negative) showing there are very less variables which are \n",
    "# strongly influencing our target variable shares. Max correlations available are below 0.14,-0.13 etc."
   ]
  },
  {
   "cell_type": "code",
   "execution_count": 457,
   "metadata": {},
   "outputs": [
    {
     "data": {
      "text/plain": [
       "[-0.13743098318116218,\n",
       " -0.13669281889098522,\n",
       " -0.10542175215482404,\n",
       " -0.07674990609130097,\n",
       " -0.06757322945834027,\n",
       " -0.050807229630373436,\n",
       " -0.04909971425788873,\n",
       " -0.04204983446998607,\n",
       " -0.04175592921015689,\n",
       " -0.03918077703766706,\n",
       " -0.0320381275405832,\n",
       " -0.02555183030018879,\n",
       " -0.02546071019219904,\n",
       " -0.02504239280997606,\n",
       " -0.024916387423843254,\n",
       " -0.022693122133719816,\n",
       " -0.0131875543014114,\n",
       " -0.00489924516069795,\n",
       " -0.003511512373760288,\n",
       " -0.002898373328721585,\n",
       " 0.001639743167870088,\n",
       " 0.0031002814421621974,\n",
       " 0.004831033761047807,\n",
       " 0.007840949409870974,\n",
       " 0.009257667315578985,\n",
       " 0.016024753393726294,\n",
       " 0.019006504945967426,\n",
       " 0.022471750028628452,\n",
       " 0.025858812762470047,\n",
       " 0.029515150250663785,\n",
       " 0.031436922415010796,\n",
       " 0.031629207033655356,\n",
       " 0.033220446810926445,\n",
       " 0.03657172619812428,\n",
       " 0.039275613569966165,\n",
       " 0.03989283218566915,\n",
       " 0.04316208364119276,\n",
       " 0.04458770854569484,\n",
       " 0.04474234764089592,\n",
       " 0.04528920357610373,\n",
       " 0.047820741458777606,\n",
       " 0.05480540847072485,\n",
       " 0.05592683379041883,\n",
       " 0.05719483771915459,\n",
       " 0.05829045465388774,\n",
       " 0.06315744991881672,\n",
       " 0.06326113052585296,\n",
       " 0.06326328670314756,\n",
       " 0.06553516636624152,\n",
       " 0.07562636891612864,\n",
       " 0.07765239633532063,\n",
       " 0.0867335346355136,\n",
       " 0.08951020997077871,\n",
       " 0.08975654015188489,\n",
       " 0.09737914709151124,\n",
       " 0.10176404243119154,\n",
       " 0.11494442243995205,\n",
       " 0.13999744895678395,\n",
       " 0.147677560920514,\n",
       " 1.0]"
      ]
     },
     "execution_count": 457,
     "metadata": {},
     "output_type": "execute_result"
    }
   ],
   "source": [
    "sorted(dict2.values()) "
   ]
  },
  {
   "cell_type": "code",
   "execution_count": 459,
   "metadata": {
    "scrolled": false
   },
   "outputs": [
    {
     "data": {
      "image/png": "[encoded data removed]",
      "text/plain": [
       "<Figure size 936x720 with 2 Axes>"
      ]
     },
     "metadata": {},
     "output_type": "display_data"
    }
   ],
   "source": [
    "sns.set(rc={'figure.figsize':(13,10)})\n",
    "sns.heatmap(correlation, cmap='YlGnBu')\n",
    "import matplotlib.pyplot as plt\n",
    "plt.yticks(rotation=0)\n",
    "plt.xticks(rotation=90)\n",
    "plt.show()"
   ]
  },
  {
   "cell_type": "code",
   "execution_count": null,
   "metadata": {},
   "outputs": [],
   "source": []
  },
  {
   "cell_type": "code",
   "execution_count": 6,
   "metadata": {},
   "outputs": [],
   "source": [
    "# Fitting simple Linear regression"
   ]
  },
  {
   "cell_type": "code",
   "execution_count": 460,
   "metadata": {},
   "outputs": [],
   "source": [
    "x = df.iloc[:,1:-1]"
   ]
  },
  {
   "cell_type": "code",
   "execution_count": 461,
   "metadata": {
    "scrolled": false
   },
   "outputs": [
    {
     "data": {
      "text/html": [
       "<div>\n",
       "<style scoped>\n",
       "    .dataframe tbody tr th:only-of-type {\n",
       "        vertical-align: middle;\n",
       "    }\n",
       "\n",
       "    .dataframe tbody tr th {\n",
       "        vertical-align: top;\n",
       "    }\n",
       "\n",
       "    .dataframe thead th {\n",
       "        text-align: right;\n",
       "    }\n",
       "</style>\n",
       "<table border=\"1\" class=\"dataframe\">\n",
       "  <thead>\n",
       "    <tr style=\"text-align: right;\">\n",
       "      <th></th>\n",
       "      <th>timedelta</th>\n",
       "      <th>n_tokens_title</th>\n",
       "      <th>n_tokens_content</th>\n",
       "      <th>n_unique_tokens</th>\n",
       "      <th>n_non_stop_words</th>\n",
       "      <th>n_non_stop_unique_tokens</th>\n",
       "      <th>num_hrefs</th>\n",
       "      <th>num_self_hrefs</th>\n",
       "      <th>num_imgs</th>\n",
       "      <th>num_videos</th>\n",
       "      <th>...</th>\n",
       "      <th>avg_positive_polarity</th>\n",
       "      <th>min_positive_polarity</th>\n",
       "      <th>max_positive_polarity</th>\n",
       "      <th>avg_negative_polarity</th>\n",
       "      <th>min_negative_polarity</th>\n",
       "      <th>max_negative_polarity</th>\n",
       "      <th>title_subjectivity</th>\n",
       "      <th>title_sentiment_polarity</th>\n",
       "      <th>abs_title_subjectivity</th>\n",
       "      <th>abs_title_sentiment_polarity</th>\n",
       "    </tr>\n",
       "  </thead>\n",
       "  <tbody>\n",
       "    <tr>\n",
       "      <th>0</th>\n",
       "      <td>731.0</td>\n",
       "      <td>12.0</td>\n",
       "      <td>219.0</td>\n",
       "      <td>0.663594</td>\n",
       "      <td>1.0</td>\n",
       "      <td>0.815385</td>\n",
       "      <td>4.0</td>\n",
       "      <td>2.0</td>\n",
       "      <td>1.0</td>\n",
       "      <td>0.0</td>\n",
       "      <td>...</td>\n",
       "      <td>0.378636</td>\n",
       "      <td>0.1</td>\n",
       "      <td>0.7</td>\n",
       "      <td>-0.35</td>\n",
       "      <td>-0.6</td>\n",
       "      <td>-0.2</td>\n",
       "      <td>0.5</td>\n",
       "      <td>-0.1875</td>\n",
       "      <td>0.0</td>\n",
       "      <td>0.1875</td>\n",
       "    </tr>\n",
       "  </tbody>\n",
       "</table>\n",
       "<p>1 rows × 59 columns</p>\n",
       "</div>"
      ],
      "text/plain": [
       "   timedelta  n_tokens_title  n_tokens_content  n_unique_tokens  \\\n",
       "0      731.0            12.0             219.0         0.663594   \n",
       "\n",
       "   n_non_stop_words  n_non_stop_unique_tokens  num_hrefs  num_self_hrefs  \\\n",
       "0               1.0                  0.815385        4.0             2.0   \n",
       "\n",
       "   num_imgs  num_videos              ...               avg_positive_polarity  \\\n",
       "0       1.0         0.0              ...                            0.378636   \n",
       "\n",
       "   min_positive_polarity  max_positive_polarity  avg_negative_polarity  \\\n",
       "0                    0.1                    0.7                  -0.35   \n",
       "\n",
       "   min_negative_polarity  max_negative_polarity  title_subjectivity  \\\n",
       "0                   -0.6                   -0.2                 0.5   \n",
       "\n",
       "   title_sentiment_polarity  abs_title_subjectivity  \\\n",
       "0                   -0.1875                     0.0   \n",
       "\n",
       "   abs_title_sentiment_polarity  \n",
       "0                        0.1875  \n",
       "\n",
       "[1 rows x 59 columns]"
      ]
     },
     "execution_count": 461,
     "metadata": {},
     "output_type": "execute_result"
    }
   ],
   "source": [
    "x.head(1)"
   ]
  },
  {
   "cell_type": "code",
   "execution_count": 462,
   "metadata": {},
   "outputs": [],
   "source": [
    "y = df.shares"
   ]
  },
  {
   "cell_type": "code",
   "execution_count": 463,
   "metadata": {},
   "outputs": [],
   "source": [
    "from sklearn.model_selection import train_test_split"
   ]
  },
  {
   "cell_type": "code",
   "execution_count": 464,
   "metadata": {},
   "outputs": [],
   "source": [
    "train_x, test_x, train_y, test_y = train_test_split(x, y, random_state=11)"
   ]
  },
  {
   "cell_type": "code",
   "execution_count": 465,
   "metadata": {},
   "outputs": [],
   "source": [
    "from sklearn.linear_model import LinearRegression"
   ]
  },
  {
   "cell_type": "code",
   "execution_count": 466,
   "metadata": {},
   "outputs": [],
   "source": [
    "lm= LinearRegression()"
   ]
  },
  {
   "cell_type": "code",
   "execution_count": 467,
   "metadata": {},
   "outputs": [],
   "source": [
    "predofy = lm.fit(train_x, train_y).predict(test_x)"
   ]
  },
  {
   "cell_type": "code",
   "execution_count": 468,
   "metadata": {},
   "outputs": [],
   "source": [
    "from sklearn.metrics import mean_squared_error\n",
    "from math import sqrt\n",
    "\n",
    "rmse = sqrt(mean_squared_error(test_y, predofy))"
   ]
  },
  {
   "cell_type": "code",
   "execution_count": 469,
   "metadata": {},
   "outputs": [
    {
     "data": {
      "text/plain": [
       "1043.1152358145198"
      ]
     },
     "execution_count": 469,
     "metadata": {},
     "output_type": "execute_result"
    }
   ],
   "source": [
    "rmse"
   ]
  },
  {
   "cell_type": "code",
   "execution_count": 471,
   "metadata": {},
   "outputs": [
    {
     "data": {
      "text/plain": [
       "0.11169276372872383"
      ]
     },
     "execution_count": 471,
     "metadata": {},
     "output_type": "execute_result"
    }
   ],
   "source": [
    "from sklearn.metrics import r2_score\n",
    "r2_score(test_y, predofy)              # Not acceptable R square"
   ]
  },
  {
   "cell_type": "code",
   "execution_count": 473,
   "metadata": {},
   "outputs": [],
   "source": [
    "# Doesn't seem to have any diagonal relationship between actual values and predicted values"
   ]
  },
  {
   "cell_type": "code",
   "execution_count": 472,
   "metadata": {},
   "outputs": [
    {
     "data": {
      "text/plain": [
       "(0, 6000)"
      ]
     },
     "execution_count": 472,
     "metadata": {},
     "output_type": "execute_result"
    },
    {
     "data": {
      "image/png": "[encoded data removed]",
      "text/plain": [
       "<Figure size 936x720 with 1 Axes>"
      ]
     },
     "metadata": {},
     "output_type": "display_data"
    }
   ],
   "source": [
    "plt.scatter(test_y, predofy)\n",
    "plt.xlabel('Y Test')\n",
    "plt.ylabel('Predicted Y')\n",
    "plt.xlim(0,6000)\n",
    "plt.ylim(0,6000)"
   ]
  },
  {
   "cell_type": "code",
   "execution_count": null,
   "metadata": {},
   "outputs": [],
   "source": []
  },
  {
   "cell_type": "code",
   "execution_count": 19,
   "metadata": {},
   "outputs": [],
   "source": [
    "# Trying 2nd degree polynomial features"
   ]
  },
  {
   "cell_type": "code",
   "execution_count": 288,
   "metadata": {},
   "outputs": [],
   "source": [
    "from sklearn.preprocessing import PolynomialFeatures"
   ]
  },
  {
   "cell_type": "code",
   "execution_count": 289,
   "metadata": {},
   "outputs": [],
   "source": [
    "poly = PolynomialFeatures(degree=2)"
   ]
  },
  {
   "cell_type": "code",
   "execution_count": 290,
   "metadata": {},
   "outputs": [],
   "source": [
    "d2train_x = poly.fit_transform(train_x)"
   ]
  },
  {
   "cell_type": "code",
   "execution_count": 291,
   "metadata": {},
   "outputs": [],
   "source": [
    "d2test_x = poly.fit_transform(test_x)"
   ]
  },
  {
   "cell_type": "code",
   "execution_count": 292,
   "metadata": {},
   "outputs": [],
   "source": [
    "lm2 = LinearRegression()"
   ]
  },
  {
   "cell_type": "code",
   "execution_count": 293,
   "metadata": {},
   "outputs": [
    {
     "data": {
      "text/plain": [
       "LinearRegression(copy_X=True, fit_intercept=True, n_jobs=None,\n",
       "         normalize=False)"
      ]
     },
     "execution_count": 293,
     "metadata": {},
     "output_type": "execute_result"
    }
   ],
   "source": [
    "lm2.fit(d2train_x, train_y)"
   ]
  },
  {
   "cell_type": "code",
   "execution_count": 294,
   "metadata": {},
   "outputs": [],
   "source": [
    "predofpoly=lm2.predict(d2test_x)"
   ]
  },
  {
   "cell_type": "code",
   "execution_count": 295,
   "metadata": {},
   "outputs": [],
   "source": [
    "rmse = sqrt(mean_squared_error(test_y, predofpoly))"
   ]
  },
  {
   "cell_type": "code",
   "execution_count": 296,
   "metadata": {},
   "outputs": [
    {
     "data": {
      "text/plain": [
       "5985136.20605008"
      ]
     },
     "execution_count": 296,
     "metadata": {},
     "output_type": "execute_result"
    }
   ],
   "source": [
    "rmse"
   ]
  },
  {
   "cell_type": "code",
   "execution_count": 297,
   "metadata": {},
   "outputs": [
    {
     "data": {
      "text/plain": [
       "-29244667.23554548"
      ]
     },
     "execution_count": 297,
     "metadata": {},
     "output_type": "execute_result"
    }
   ],
   "source": [
    "from sklearn.metrics import r2_score\n",
    "r2_score(test_y, predofpoly)            # Not acceptable R square"
   ]
  },
  {
   "cell_type": "code",
   "execution_count": 474,
   "metadata": {},
   "outputs": [],
   "source": [
    "# Doesn't have any diagonal relationship between actual values and predicted values"
   ]
  },
  {
   "cell_type": "code",
   "execution_count": 298,
   "metadata": {},
   "outputs": [
    {
     "data": {
      "text/plain": [
       "Text(0, 0.5, 'Predicted Y')"
      ]
     },
     "execution_count": 298,
     "metadata": {},
     "output_type": "execute_result"
    },
    {
     "data": {
      "image/png": "[encoded data removed]",
      "text/plain": [
       "<Figure size 936x936 with 1 Axes>"
      ]
     },
     "metadata": {},
     "output_type": "display_data"
    }
   ],
   "source": [
    "plt.scatter(test_y, predofpoly)\n",
    "plt.xlabel('Y Test')\n",
    "plt.ylabel('Predicted Y')"
   ]
  },
  {
   "cell_type": "code",
   "execution_count": null,
   "metadata": {},
   "outputs": [],
   "source": []
  },
  {
   "cell_type": "code",
   "execution_count": 220,
   "metadata": {},
   "outputs": [],
   "source": [
    "# Trying PCA"
   ]
  },
  {
   "cell_type": "code",
   "execution_count": 299,
   "metadata": {},
   "outputs": [],
   "source": [
    "from sklearn.decomposition import PCA"
   ]
  },
  {
   "cell_type": "code",
   "execution_count": 300,
   "metadata": {},
   "outputs": [],
   "source": [
    "pca = PCA(n_components=2)"
   ]
  },
  {
   "cell_type": "code",
   "execution_count": 301,
   "metadata": {},
   "outputs": [],
   "source": [
    "pca_train = pca.fit_transform(train_x)"
   ]
  },
  {
   "cell_type": "code",
   "execution_count": 302,
   "metadata": {},
   "outputs": [],
   "source": [
    "pca_test = pca.fit_transform(test_x)"
   ]
  },
  {
   "cell_type": "code",
   "execution_count": 303,
   "metadata": {},
   "outputs": [],
   "source": [
    "lm3 = LinearRegression()"
   ]
  },
  {
   "cell_type": "code",
   "execution_count": 304,
   "metadata": {},
   "outputs": [
    {
     "data": {
      "text/plain": [
       "LinearRegression(copy_X=True, fit_intercept=True, n_jobs=None,\n",
       "         normalize=False)"
      ]
     },
     "execution_count": 304,
     "metadata": {},
     "output_type": "execute_result"
    }
   ],
   "source": [
    "lm3.fit(pca_train, train_y)"
   ]
  },
  {
   "cell_type": "code",
   "execution_count": 305,
   "metadata": {},
   "outputs": [],
   "source": [
    "predofypca = lm3.predict(pca_test)"
   ]
  },
  {
   "cell_type": "code",
   "execution_count": 45,
   "metadata": {
    "scrolled": true
   },
   "outputs": [
    {
     "name": "stdout",
     "output_type": "stream",
     "text": [
      "[0.76538478 0.16578727]\n"
     ]
    }
   ],
   "source": [
    "print(pca.explained_variance_ratio_)   # Amount of Variance explained by successive Principal components"
   ]
  },
  {
   "cell_type": "code",
   "execution_count": 46,
   "metadata": {},
   "outputs": [
    {
     "data": {
      "text/plain": [
       "0.93117205"
      ]
     },
     "execution_count": 46,
     "metadata": {},
     "output_type": "execute_result"
    }
   ],
   "source": [
    "0.76538478+0.16578727 # 93 percent variance explained by 2 principal components"
   ]
  },
  {
   "cell_type": "code",
   "execution_count": 306,
   "metadata": {},
   "outputs": [],
   "source": [
    "rmse = sqrt(mean_squared_error(test_y, predofypca))"
   ]
  },
  {
   "cell_type": "code",
   "execution_count": 307,
   "metadata": {},
   "outputs": [
    {
     "data": {
      "text/plain": [
       "1106.0953805420088"
      ]
     },
     "execution_count": 307,
     "metadata": {},
     "output_type": "execute_result"
    }
   ],
   "source": [
    "rmse"
   ]
  },
  {
   "cell_type": "code",
   "execution_count": 308,
   "metadata": {},
   "outputs": [
    {
     "data": {
      "text/plain": [
       "0.0011879354969038802"
      ]
     },
     "execution_count": 308,
     "metadata": {},
     "output_type": "execute_result"
    }
   ],
   "source": [
    "r2_score(test_y, predofypca)       # Not acceptable R square"
   ]
  },
  {
   "cell_type": "code",
   "execution_count": 475,
   "metadata": {},
   "outputs": [],
   "source": [
    "# Doesn't have any diagonal relationship between actual values and predicted values and model seems to be biased\n",
    "# Model predicting all values between 1500 to 2000 for actual values upto 6000"
   ]
  },
  {
   "cell_type": "code",
   "execution_count": 341,
   "metadata": {},
   "outputs": [
    {
     "data": {
      "text/plain": [
       "(0, 6000)"
      ]
     },
     "execution_count": 341,
     "metadata": {},
     "output_type": "execute_result"
    },
    {
     "data": {
      "image/png": "[encoded data removed]",
      "text/plain": [
       "<Figure size 936x936 with 1 Axes>"
      ]
     },
     "metadata": {},
     "output_type": "display_data"
    }
   ],
   "source": [
    "plt.scatter(test_y, predofypca)\n",
    "plt.xlabel('Y Test')\n",
    "plt.ylabel('Predicted Y')\n",
    "plt.xlim(0,6000)\n",
    "plt.ylim(0,6000)"
   ]
  },
  {
   "cell_type": "code",
   "execution_count": null,
   "metadata": {},
   "outputs": [],
   "source": []
  },
  {
   "cell_type": "code",
   "execution_count": 47,
   "metadata": {},
   "outputs": [],
   "source": [
    "# Trying Decision Tree"
   ]
  },
  {
   "cell_type": "code",
   "execution_count": 312,
   "metadata": {},
   "outputs": [],
   "source": [
    "from sklearn.tree import DecisionTreeClassifier"
   ]
  },
  {
   "cell_type": "code",
   "execution_count": 313,
   "metadata": {},
   "outputs": [],
   "source": [
    "dt = DecisionTreeClassifier()"
   ]
  },
  {
   "cell_type": "code",
   "execution_count": 314,
   "metadata": {},
   "outputs": [
    {
     "data": {
      "text/plain": [
       "DecisionTreeClassifier(class_weight=None, criterion='gini', max_depth=None,\n",
       "            max_features=None, max_leaf_nodes=None,\n",
       "            min_impurity_decrease=0.0, min_impurity_split=None,\n",
       "            min_samples_leaf=1, min_samples_split=2,\n",
       "            min_weight_fraction_leaf=0.0, presort=False, random_state=None,\n",
       "            splitter='best')"
      ]
     },
     "execution_count": 314,
     "metadata": {},
     "output_type": "execute_result"
    }
   ],
   "source": [
    "dt.fit(train_x, train_y)"
   ]
  },
  {
   "cell_type": "code",
   "execution_count": 315,
   "metadata": {},
   "outputs": [],
   "source": [
    "predofydt = dt.predict(test_x)"
   ]
  },
  {
   "cell_type": "code",
   "execution_count": 316,
   "metadata": {},
   "outputs": [],
   "source": [
    "rmse = sqrt(mean_squared_error(test_y, predofydt))"
   ]
  },
  {
   "cell_type": "code",
   "execution_count": 317,
   "metadata": {},
   "outputs": [
    {
     "data": {
      "text/plain": [
       "1456.5998237300555"
      ]
     },
     "execution_count": 317,
     "metadata": {},
     "output_type": "execute_result"
    }
   ],
   "source": [
    "rmse"
   ]
  },
  {
   "cell_type": "code",
   "execution_count": 318,
   "metadata": {},
   "outputs": [
    {
     "data": {
      "text/plain": [
       "-0.7321245952822046"
      ]
     },
     "execution_count": 318,
     "metadata": {},
     "output_type": "execute_result"
    }
   ],
   "source": [
    "r2_score(test_y, predofydt)                # Not acceptable R square"
   ]
  },
  {
   "cell_type": "code",
   "execution_count": null,
   "metadata": {},
   "outputs": [],
   "source": [
    "# Model unable to show any relationship between actual and predicted values"
   ]
  },
  {
   "cell_type": "code",
   "execution_count": 338,
   "metadata": {},
   "outputs": [
    {
     "data": {
      "text/plain": [
       "(0, 6000)"
      ]
     },
     "execution_count": 338,
     "metadata": {},
     "output_type": "execute_result"
    },
    {
     "data": {
      "image/png": "[encoded data removed]",
      "text/plain": [
       "<Figure size 936x936 with 1 Axes>"
      ]
     },
     "metadata": {},
     "output_type": "display_data"
    }
   ],
   "source": [
    "plt.scatter(test_y, predofydt)\n",
    "plt.xlabel('Y Test')\n",
    "plt.ylabel('Predicted Y')\n",
    "plt.xlim(0,6000)\n",
    "plt.ylim(0,6000)"
   ]
  },
  {
   "cell_type": "code",
   "execution_count": null,
   "metadata": {},
   "outputs": [],
   "source": []
  },
  {
   "cell_type": "code",
   "execution_count": 55,
   "metadata": {},
   "outputs": [],
   "source": [
    "# Trying Random Forest"
   ]
  },
  {
   "cell_type": "code",
   "execution_count": 321,
   "metadata": {},
   "outputs": [],
   "source": [
    "from sklearn.ensemble import RandomForestClassifier"
   ]
  },
  {
   "cell_type": "code",
   "execution_count": 322,
   "metadata": {},
   "outputs": [],
   "source": [
    "rf = RandomForestClassifier()"
   ]
  },
  {
   "cell_type": "code",
   "execution_count": 323,
   "metadata": {},
   "outputs": [
    {
     "name": "stderr",
     "output_type": "stream",
     "text": [
      "C:\\Users\\SHIVA\\Anaconda3\\lib\\site-packages\\sklearn\\ensemble\\forest.py:246: FutureWarning: The default value of n_estimators will change from 10 in version 0.20 to 100 in 0.22.\n",
      "  \"10 in version 0.20 to 100 in 0.22.\", FutureWarning)\n"
     ]
    },
    {
     "data": {
      "text/plain": [
       "RandomForestClassifier(bootstrap=True, class_weight=None, criterion='gini',\n",
       "            max_depth=None, max_features='auto', max_leaf_nodes=None,\n",
       "            min_impurity_decrease=0.0, min_impurity_split=None,\n",
       "            min_samples_leaf=1, min_samples_split=2,\n",
       "            min_weight_fraction_leaf=0.0, n_estimators=10, n_jobs=None,\n",
       "            oob_score=False, random_state=None, verbose=0,\n",
       "            warm_start=False)"
      ]
     },
     "execution_count": 323,
     "metadata": {},
     "output_type": "execute_result"
    }
   ],
   "source": [
    "rf.fit(train_x, train_y)"
   ]
  },
  {
   "cell_type": "code",
   "execution_count": 324,
   "metadata": {},
   "outputs": [],
   "source": [
    "predofyrf=rf.predict(test_x)"
   ]
  },
  {
   "cell_type": "code",
   "execution_count": 325,
   "metadata": {},
   "outputs": [
    {
     "data": {
      "text/plain": [
       "1348.405106503347"
      ]
     },
     "execution_count": 325,
     "metadata": {},
     "output_type": "execute_result"
    }
   ],
   "source": [
    "rmse = sqrt(mean_squared_error(test_y, predofyrf))\n",
    "rmse"
   ]
  },
  {
   "cell_type": "code",
   "execution_count": 476,
   "metadata": {},
   "outputs": [
    {
     "data": {
      "text/plain": [
       "-0.4843605361364396"
      ]
     },
     "execution_count": 476,
     "metadata": {},
     "output_type": "execute_result"
    }
   ],
   "source": [
    "r2_score(test_y, predofyrf)        # Not acceptable R square"
   ]
  },
  {
   "cell_type": "code",
   "execution_count": null,
   "metadata": {},
   "outputs": [],
   "source": [
    "# No relationship between Actual and Prediction values"
   ]
  },
  {
   "cell_type": "code",
   "execution_count": 337,
   "metadata": {},
   "outputs": [
    {
     "data": {
      "text/plain": [
       "(0, 6000)"
      ]
     },
     "execution_count": 337,
     "metadata": {},
     "output_type": "execute_result"
    },
    {
     "data": {
      "image/png": "[encoded data removed]",
      "text/plain": [
       "<Figure size 936x936 with 1 Axes>"
      ]
     },
     "metadata": {},
     "output_type": "display_data"
    }
   ],
   "source": [
    "plt.scatter(test_y, predofyrf)\n",
    "plt.xlabel('Y Test')\n",
    "plt.ylabel('Predicted Y')\n",
    "plt.xlim(0,6000)\n",
    "plt.ylim(0,6000)"
   ]
  },
  {
   "cell_type": "code",
   "execution_count": 62,
   "metadata": {},
   "outputs": [],
   "source": [
    "# Trying Adaboost"
   ]
  },
  {
   "cell_type": "code",
   "execution_count": 63,
   "metadata": {},
   "outputs": [],
   "source": [
    "from sklearn.ensemble import AdaBoostClassifier"
   ]
  },
  {
   "cell_type": "code",
   "execution_count": 329,
   "metadata": {},
   "outputs": [],
   "source": [
    "ada = AdaBoostClassifier()"
   ]
  },
  {
   "cell_type": "code",
   "execution_count": 330,
   "metadata": {},
   "outputs": [
    {
     "data": {
      "text/plain": [
       "AdaBoostClassifier(algorithm='SAMME.R', base_estimator=None,\n",
       "          learning_rate=1.0, n_estimators=50, random_state=None)"
      ]
     },
     "execution_count": 330,
     "metadata": {},
     "output_type": "execute_result"
    }
   ],
   "source": [
    "ada.fit(train_x, train_y)"
   ]
  },
  {
   "cell_type": "code",
   "execution_count": 331,
   "metadata": {},
   "outputs": [],
   "source": [
    "predofyada = ada.predict(test_x)"
   ]
  },
  {
   "cell_type": "code",
   "execution_count": 332,
   "metadata": {},
   "outputs": [
    {
     "data": {
      "text/plain": [
       "1241.2156288702897"
      ]
     },
     "execution_count": 332,
     "metadata": {},
     "output_type": "execute_result"
    }
   ],
   "source": [
    "rmse = sqrt(mean_squared_error(test_y, predofyada))\n",
    "rmse"
   ]
  },
  {
   "cell_type": "code",
   "execution_count": 477,
   "metadata": {},
   "outputs": [
    {
     "data": {
      "text/plain": [
       "-0.25774642966698047"
      ]
     },
     "execution_count": 477,
     "metadata": {},
     "output_type": "execute_result"
    }
   ],
   "source": [
    "r2_score(test_y, predofyada)    # Not acceptable R square"
   ]
  },
  {
   "cell_type": "code",
   "execution_count": null,
   "metadata": {},
   "outputs": [],
   "source": [
    "# Adaboost would have predicted Biased model"
   ]
  },
  {
   "cell_type": "code",
   "execution_count": 478,
   "metadata": {},
   "outputs": [
    {
     "data": {
      "text/plain": [
       "(0, 6000)"
      ]
     },
     "execution_count": 478,
     "metadata": {},
     "output_type": "execute_result"
    },
    {
     "data": {
      "image/png": "[encoded data removed]",
      "text/plain": [
       "<Figure size 936x720 with 1 Axes>"
      ]
     },
     "metadata": {},
     "output_type": "display_data"
    }
   ],
   "source": [
    "plt.scatter(test_y, predofyada)\n",
    "plt.xlabel('Y Test')\n",
    "plt.ylabel('Predicted Y')\n",
    "plt.xlim(0,6000)\n",
    "plt.ylim(0,6000)"
   ]
  },
  {
   "cell_type": "code",
   "execution_count": 69,
   "metadata": {},
   "outputs": [],
   "source": [
    "# Trying all with Cross validation splits"
   ]
  },
  {
   "cell_type": "code",
   "execution_count": null,
   "metadata": {},
   "outputs": [],
   "source": [
    "# Over simple Linear regression"
   ]
  },
  {
   "cell_type": "code",
   "execution_count": 514,
   "metadata": {},
   "outputs": [],
   "source": [
    "from sklearn.model_selection import KFold"
   ]
  },
  {
   "cell_type": "code",
   "execution_count": 515,
   "metadata": {},
   "outputs": [],
   "source": [
    "KFold = KFold(n_splits=3, random_state=11)"
   ]
  },
  {
   "cell_type": "code",
   "execution_count": 516,
   "metadata": {},
   "outputs": [],
   "source": [
    "from sklearn.model_selection import cross_val_score"
   ]
  },
  {
   "cell_type": "code",
   "execution_count": 517,
   "metadata": {},
   "outputs": [],
   "source": [
    "lm= LinearRegression()"
   ]
  },
  {
   "cell_type": "code",
   "execution_count": 518,
   "metadata": {},
   "outputs": [],
   "source": [
    "ctrain_x = x"
   ]
  },
  {
   "cell_type": "code",
   "execution_count": 519,
   "metadata": {},
   "outputs": [],
   "source": [
    "ctrain_y = y"
   ]
  },
  {
   "cell_type": "code",
   "execution_count": 521,
   "metadata": {},
   "outputs": [],
   "source": [
    "scores = cross_val_score(lm, ctrain_x, ctrain_y, scoring='r2', cv=KFold)"
   ]
  },
  {
   "cell_type": "code",
   "execution_count": 522,
   "metadata": {},
   "outputs": [
    {
     "data": {
      "text/plain": [
       "-0.303410682027819"
      ]
     },
     "execution_count": 522,
     "metadata": {},
     "output_type": "execute_result"
    }
   ],
   "source": [
    "scores.mean()           # Not acceptable R square"
   ]
  },
  {
   "cell_type": "code",
   "execution_count": null,
   "metadata": {},
   "outputs": [],
   "source": [
    "# Over Linear regression with Polynomial Features"
   ]
  },
  {
   "cell_type": "code",
   "execution_count": 384,
   "metadata": {},
   "outputs": [],
   "source": [
    "from sklearn.preprocessing import PolynomialFeatures"
   ]
  },
  {
   "cell_type": "code",
   "execution_count": 385,
   "metadata": {},
   "outputs": [],
   "source": [
    "poly = PolynomialFeatures(degree=2)"
   ]
  },
  {
   "cell_type": "code",
   "execution_count": 386,
   "metadata": {},
   "outputs": [],
   "source": [
    "d2train_x = poly.fit_transform(ctrain_x)"
   ]
  },
  {
   "cell_type": "code",
   "execution_count": 387,
   "metadata": {},
   "outputs": [],
   "source": [
    "lm2 = LinearRegression()"
   ]
  },
  {
   "cell_type": "code",
   "execution_count": 388,
   "metadata": {},
   "outputs": [],
   "source": [
    "scores = cross_val_score(lm2, d2train_x, ctrain_y, scoring='r2', cv=KFold)"
   ]
  },
  {
   "cell_type": "code",
   "execution_count": 389,
   "metadata": {},
   "outputs": [
    {
     "data": {
      "text/plain": [
       "5351063.80000845"
      ]
     },
     "execution_count": 389,
     "metadata": {},
     "output_type": "execute_result"
    }
   ],
   "source": [
    "scores.mean()          # Not acceptable R square"
   ]
  },
  {
   "cell_type": "code",
   "execution_count": null,
   "metadata": {},
   "outputs": [],
   "source": [
    "# Over Linear regression with PCA"
   ]
  },
  {
   "cell_type": "code",
   "execution_count": 390,
   "metadata": {},
   "outputs": [],
   "source": [
    "from sklearn.decomposition import PCA"
   ]
  },
  {
   "cell_type": "code",
   "execution_count": 391,
   "metadata": {},
   "outputs": [],
   "source": [
    "pca = PCA(n_components=2)"
   ]
  },
  {
   "cell_type": "code",
   "execution_count": 392,
   "metadata": {},
   "outputs": [],
   "source": [
    "cpca_train = pca.fit_transform(ctrain_x)"
   ]
  },
  {
   "cell_type": "code",
   "execution_count": 393,
   "metadata": {},
   "outputs": [],
   "source": [
    "lm3 = LinearRegression()"
   ]
  },
  {
   "cell_type": "code",
   "execution_count": 394,
   "metadata": {},
   "outputs": [],
   "source": [
    "scores = cross_val_score(lm3, cpca_train, ctrain_y, scoring='r2', cv=KFold)"
   ]
  },
  {
   "cell_type": "code",
   "execution_count": 395,
   "metadata": {
    "scrolled": true
   },
   "outputs": [
    {
     "data": {
      "text/plain": [
       "1109.8581164224556"
      ]
     },
     "execution_count": 395,
     "metadata": {},
     "output_type": "execute_result"
    }
   ],
   "source": [
    "scores.mean()             # Not acceptable R square"
   ]
  },
  {
   "cell_type": "code",
   "execution_count": null,
   "metadata": {},
   "outputs": [],
   "source": [
    "# Over Decision Trees"
   ]
  },
  {
   "cell_type": "code",
   "execution_count": 509,
   "metadata": {},
   "outputs": [],
   "source": [
    "from sklearn.model_selection import KFold"
   ]
  },
  {
   "cell_type": "code",
   "execution_count": 510,
   "metadata": {},
   "outputs": [],
   "source": [
    "KFold = KFold(n_splits=3)"
   ]
  },
  {
   "cell_type": "code",
   "execution_count": 398,
   "metadata": {},
   "outputs": [],
   "source": [
    "from sklearn.tree import DecisionTreeClassifier"
   ]
  },
  {
   "cell_type": "code",
   "execution_count": 399,
   "metadata": {},
   "outputs": [],
   "source": [
    "dt = DecisionTreeClassifier()"
   ]
  },
  {
   "cell_type": "code",
   "execution_count": 400,
   "metadata": {},
   "outputs": [],
   "source": [
    "scores = cross_val_score(dt, ctrain_x, ctrain_y, scoring='r2', cv=KFold)"
   ]
  },
  {
   "cell_type": "code",
   "execution_count": 401,
   "metadata": {},
   "outputs": [
    {
     "data": {
      "text/plain": [
       "1429.4308717053452"
      ]
     },
     "execution_count": 401,
     "metadata": {},
     "output_type": "execute_result"
    }
   ],
   "source": [
    "scores.mean()               # Not acceptable R square"
   ]
  },
  {
   "cell_type": "code",
   "execution_count": null,
   "metadata": {},
   "outputs": [],
   "source": [
    "# Over Random Forests"
   ]
  },
  {
   "cell_type": "code",
   "execution_count": 141,
   "metadata": {},
   "outputs": [],
   "source": [
    "from sklearn.ensemble import RandomForestClassifier"
   ]
  },
  {
   "cell_type": "code",
   "execution_count": 402,
   "metadata": {},
   "outputs": [],
   "source": [
    "rf = RandomForestClassifier()"
   ]
  },
  {
   "cell_type": "code",
   "execution_count": 403,
   "metadata": {},
   "outputs": [
    {
     "name": "stderr",
     "output_type": "stream",
     "text": [
      "C:\\Users\\SHIVA\\Anaconda3\\lib\\site-packages\\sklearn\\ensemble\\forest.py:246: FutureWarning: The default value of n_estimators will change from 10 in version 0.20 to 100 in 0.22.\n",
      "  \"10 in version 0.20 to 100 in 0.22.\", FutureWarning)\n",
      "C:\\Users\\SHIVA\\Anaconda3\\lib\\site-packages\\sklearn\\ensemble\\forest.py:246: FutureWarning: The default value of n_estimators will change from 10 in version 0.20 to 100 in 0.22.\n",
      "  \"10 in version 0.20 to 100 in 0.22.\", FutureWarning)\n",
      "C:\\Users\\SHIVA\\Anaconda3\\lib\\site-packages\\sklearn\\ensemble\\forest.py:246: FutureWarning: The default value of n_estimators will change from 10 in version 0.20 to 100 in 0.22.\n",
      "  \"10 in version 0.20 to 100 in 0.22.\", FutureWarning)\n"
     ]
    }
   ],
   "source": [
    "scores = cross_val_score(rf, ctrain_x, ctrain_y, scoring='r2', cv=KFold)"
   ]
  },
  {
   "cell_type": "code",
   "execution_count": 404,
   "metadata": {},
   "outputs": [
    {
     "data": {
      "text/plain": [
       "1362.372189389946"
      ]
     },
     "execution_count": 404,
     "metadata": {},
     "output_type": "execute_result"
    }
   ],
   "source": [
    "scores.mean()                    # Not acceptable R square"
   ]
  },
  {
   "cell_type": "code",
   "execution_count": null,
   "metadata": {},
   "outputs": [],
   "source": [
    "# Over Adaboost"
   ]
  },
  {
   "cell_type": "code",
   "execution_count": 148,
   "metadata": {},
   "outputs": [],
   "source": [
    "from sklearn.ensemble import AdaBoostClassifier"
   ]
  },
  {
   "cell_type": "code",
   "execution_count": 405,
   "metadata": {},
   "outputs": [],
   "source": [
    "ada = AdaBoostClassifier()"
   ]
  },
  {
   "cell_type": "code",
   "execution_count": 406,
   "metadata": {},
   "outputs": [],
   "source": [
    "scores = cross_val_score(ada, ctrain_x, ctrain_y, scoring='r2', cv=KFold)"
   ]
  },
  {
   "cell_type": "code",
   "execution_count": 407,
   "metadata": {},
   "outputs": [
    {
     "data": {
      "text/plain": [
       "1238.0358568930965"
      ]
     },
     "execution_count": 407,
     "metadata": {},
     "output_type": "execute_result"
    }
   ],
   "source": [
    "scores.mean()                    # Not acceptable R square"
   ]
  },
  {
   "cell_type": "code",
   "execution_count": null,
   "metadata": {},
   "outputs": [],
   "source": [
    "# For RandomForestClassifier"
   ]
  },
  {
   "cell_type": "code",
   "execution_count": null,
   "metadata": {},
   "outputs": [],
   "source": [
    "                                   # Not acceptable R square"
   ]
  },
  {
   "cell_type": "code",
   "execution_count": 523,
   "metadata": {},
   "outputs": [
    {
     "name": "stdout",
     "output_type": "stream",
     "text": [
      "The  10  R square is  -0.48327949025722367\n",
      "The  20  R square is  -0.2474771104925156\n"
     ]
    }
   ],
   "source": [
    "for n_tree in range(10,30,10):\n",
    "    rf = RandomForestClassifier(n_estimators=n_tree)\n",
    "    scores = cross_val_score(rf, ctrain_x, ctrain_y, scoring='r2', cv=KFold)\n",
    "    print(\"The \",n_tree,\" trees R square is \",scores.mean())"
   ]
  },
  {
   "cell_type": "code",
   "execution_count": 161,
   "metadata": {},
   "outputs": [],
   "source": [
    "# For AdaboostClassifier"
   ]
  },
  {
   "cell_type": "code",
   "execution_count": null,
   "metadata": {},
   "outputs": [],
   "source": [
    "                                   # Not acceptable R square"
   ]
  },
  {
   "cell_type": "code",
   "execution_count": 162,
   "metadata": {},
   "outputs": [
    {
     "name": "stdout",
     "output_type": "stream",
     "text": [
      "The ntrees 40  MSE is  -140443189.10523662\n",
      "The ntrees 40  Rsquare  -0.04473340466571163\n",
      "The ntrees 50  MSE is  -140443189.10523662\n",
      "The ntrees 50  Rsquare  -0.04477761304130479\n",
      "The ntrees 60  MSE is  -140506766.54949048\n",
      "The ntrees 60  Rsquare  -0.04560365754747586\n",
      "The ntrees 70  MSE is  -140506980.35233578\n",
      "The ntrees 70  Rsquare  -0.04477761304130479\n",
      "The ntrees 80  MSE is  -141186718.11845425\n",
      "The ntrees 80  Rsquare  -0.04473684447029613\n"
     ]
    }
   ],
   "source": [
    "for n_tree in range(40,81,10):\n",
    "    ada = AdaBoostClassifier(n_estimators=n_tree)\n",
    "    scores = cross_val_score(ada, ctrain_x, ctrain_y, scoring='r2', cv=KFold)\n",
    "    print(\"The \",n_tree,\" trees R square \",scores.mean())"
   ]
  },
  {
   "cell_type": "code",
   "execution_count": null,
   "metadata": {},
   "outputs": [],
   "source": [
    "# Trying Random Forest with Large number of trees"
   ]
  },
  {
   "cell_type": "code",
   "execution_count": 488,
   "metadata": {},
   "outputs": [],
   "source": [
    "rf2 = RandomForestClassifier(n_estimators=250, min_samples_split=20, random_state=11) "
   ]
  },
  {
   "cell_type": "code",
   "execution_count": 489,
   "metadata": {},
   "outputs": [
    {
     "data": {
      "text/plain": [
       "RandomForestClassifier(bootstrap=True, class_weight=None, criterion='gini',\n",
       "            max_depth=None, max_features='auto', max_leaf_nodes=None,\n",
       "            min_impurity_decrease=0.0, min_impurity_split=None,\n",
       "            min_samples_leaf=1, min_samples_split=20,\n",
       "            min_weight_fraction_leaf=0.0, n_estimators=250, n_jobs=None,\n",
       "            oob_score=False, random_state=11, verbose=0, warm_start=False)"
      ]
     },
     "execution_count": 489,
     "metadata": {},
     "output_type": "execute_result"
    }
   ],
   "source": [
    "rf2.fit(train_x, train_y)"
   ]
  },
  {
   "cell_type": "code",
   "execution_count": 490,
   "metadata": {},
   "outputs": [],
   "source": [
    "predofyrf2=rf2.predict(test_x)"
   ]
  },
  {
   "cell_type": "code",
   "execution_count": 491,
   "metadata": {},
   "outputs": [
    {
     "data": {
      "text/plain": [
       "1188.8393634209558"
      ]
     },
     "execution_count": 491,
     "metadata": {},
     "output_type": "execute_result"
    }
   ],
   "source": [
    "rmse = sqrt(mean_squared_error(test_y, predofyrf2))\n",
    "rmse"
   ]
  },
  {
   "cell_type": "code",
   "execution_count": 492,
   "metadata": {},
   "outputs": [
    {
     "data": {
      "text/plain": [
       "-0.1538383656702067"
      ]
     },
     "execution_count": 492,
     "metadata": {},
     "output_type": "execute_result"
    }
   ],
   "source": [
    "r2_score(test_y, predofyrf2)          # Not acceptable R square"
   ]
  },
  {
   "cell_type": "code",
   "execution_count": 499,
   "metadata": {},
   "outputs": [],
   "source": [
    "# No pattern visible"
   ]
  },
  {
   "cell_type": "code",
   "execution_count": 498,
   "metadata": {},
   "outputs": [
    {
     "data": {
      "text/plain": [
       "(0, 6000)"
      ]
     },
     "execution_count": 498,
     "metadata": {},
     "output_type": "execute_result"
    },
    {
     "data": {
      "image/png": "[encoded data removed]",
      "text/plain": [
       "<Figure size 936x720 with 1 Axes>"
      ]
     },
     "metadata": {},
     "output_type": "display_data"
    }
   ],
   "source": [
    "plt.scatter(test_y, predofyrf2)\n",
    "plt.xlabel('Y Test')\n",
    "plt.ylabel('Predicted Y')\n",
    "plt.xlim(0,6000)\n",
    "plt.ylim(0,6000)"
   ]
  },
  {
   "cell_type": "code",
   "execution_count": null,
   "metadata": {},
   "outputs": [],
   "source": [
    "# Applying Random Forest algorithm on Principal Components instead"
   ]
  },
  {
   "cell_type": "code",
   "execution_count": 493,
   "metadata": {},
   "outputs": [],
   "source": [
    "rf4 = RandomForestClassifier(n_estimators=250, min_samples_split=20, random_state=10) "
   ]
  },
  {
   "cell_type": "code",
   "execution_count": 494,
   "metadata": {},
   "outputs": [
    {
     "data": {
      "text/plain": [
       "RandomForestClassifier(bootstrap=True, class_weight=None, criterion='gini',\n",
       "            max_depth=None, max_features='auto', max_leaf_nodes=None,\n",
       "            min_impurity_decrease=0.0, min_impurity_split=None,\n",
       "            min_samples_leaf=1, min_samples_split=20,\n",
       "            min_weight_fraction_leaf=0.0, n_estimators=250, n_jobs=None,\n",
       "            oob_score=False, random_state=10, verbose=0, warm_start=False)"
      ]
     },
     "execution_count": 494,
     "metadata": {},
     "output_type": "execute_result"
    }
   ],
   "source": [
    "rf4.fit(pca_train, train_y)"
   ]
  },
  {
   "cell_type": "code",
   "execution_count": 502,
   "metadata": {},
   "outputs": [],
   "source": [
    "predofyrf4=rf4.predict(pca_test)"
   ]
  },
  {
   "cell_type": "code",
   "execution_count": 503,
   "metadata": {},
   "outputs": [
    {
     "data": {
      "text/plain": [
       "1223.8168752206145"
      ]
     },
     "execution_count": 503,
     "metadata": {},
     "output_type": "execute_result"
    }
   ],
   "source": [
    "rmse = sqrt(mean_squared_error(test_y, predofyrf4))\n",
    "rmse"
   ]
  },
  {
   "cell_type": "code",
   "execution_count": 504,
   "metadata": {},
   "outputs": [
    {
     "data": {
      "text/plain": [
       "-0.22273261637249364"
      ]
     },
     "execution_count": 504,
     "metadata": {},
     "output_type": "execute_result"
    }
   ],
   "source": [
    "r2_score(test_y, predofyrf4)           # Not acceptable R square"
   ]
  },
  {
   "cell_type": "code",
   "execution_count": 506,
   "metadata": {},
   "outputs": [],
   "source": [
    "# No distinct pattern visible"
   ]
  },
  {
   "cell_type": "code",
   "execution_count": 505,
   "metadata": {},
   "outputs": [
    {
     "data": {
      "text/plain": [
       "(0, 6000)"
      ]
     },
     "execution_count": 505,
     "metadata": {},
     "output_type": "execute_result"
    },
    {
     "data": {
      "image/png": "[encoded data removed]",
      "text/plain": [
       "<Figure size 936x720 with 1 Axes>"
      ]
     },
     "metadata": {},
     "output_type": "display_data"
    }
   ],
   "source": [
    "plt.scatter(test_y, predofyrf4)\n",
    "plt.xlabel('Y Test')\n",
    "plt.ylabel('Predicted Y')\n",
    "plt.xlim(0,6000)\n",
    "plt.ylim(0,6000)"
   ]
  },
  {
   "cell_type": "code",
   "execution_count": null,
   "metadata": {},
   "outputs": [],
   "source": [
    "# Applying Random Forest with 500 base estimators."
   ]
  },
  {
   "cell_type": "code",
   "execution_count": 174,
   "metadata": {},
   "outputs": [],
   "source": [
    "rf3 = RandomForestClassifier(n_estimators=500, min_samples_split=20, random_state=11)"
   ]
  },
  {
   "cell_type": "code",
   "execution_count": 175,
   "metadata": {},
   "outputs": [
    {
     "data": {
      "text/plain": [
       "'0:18:18.680201'"
      ]
     },
     "execution_count": 175,
     "metadata": {},
     "output_type": "execute_result"
    }
   ],
   "source": [
    "rf3.fit(train_x, train_y)"
   ]
  },
  {
   "cell_type": "code",
   "execution_count": 409,
   "metadata": {},
   "outputs": [],
   "source": [
    "predofyrf3=rf3.predict(test_x)"
   ]
  },
  {
   "cell_type": "code",
   "execution_count": 177,
   "metadata": {},
   "outputs": [
    {
     "data": {
      "text/plain": [
       "10506.364377295971"
      ]
     },
     "execution_count": 177,
     "metadata": {},
     "output_type": "execute_result"
    }
   ],
   "source": [
    "rmse = sqrt(mean_squared_error(test_y, predofyrf3))\n",
    "rmse"
   ]
  },
  {
   "cell_type": "code",
   "execution_count": 434,
   "metadata": {},
   "outputs": [
    {
     "data": {
      "text/plain": [
       "0.7105021786411326"
      ]
     },
     "execution_count": 434,
     "metadata": {},
     "output_type": "execute_result"
    }
   ],
   "source": [
    "r2_score(test_y, predofyrf3) # Finally this seems to be the best model of all the models tried"
   ]
  },
  {
   "cell_type": "code",
   "execution_count": 507,
   "metadata": {},
   "outputs": [],
   "source": [
    "# There seems to be a pattern visible in the graph, its diagonal relationship between actual and predicted values.\n",
    "# And R square value above 0.7 is also an acceptable value."
   ]
  },
  {
   "cell_type": "code",
   "execution_count": 433,
   "metadata": {},
   "outputs": [
    {
     "data": {
      "text/plain": [
       "(0, 6000)"
      ]
     },
     "execution_count": 433,
     "metadata": {},
     "output_type": "execute_result"
    },
    {
     "data": {
      "image/png": "[encoded data removed]",
      "text/plain": [
       "<Figure size 936x936 with 1 Axes>"
      ]
     },
     "metadata": {},
     "output_type": "display_data"
    }
   ],
   "source": [
    "plt.scatter(test_y, predofyrf3)\n",
    "plt.xlabel('Y Test')\n",
    "plt.ylabel('Predicted Y')\n",
    "plt.xlim(0,6000)\n",
    "plt.ylim(0,6000)"
   ]
  },
  {
   "cell_type": "code",
   "execution_count": null,
   "metadata": {},
   "outputs": [],
   "source": []
  },
  {
   "cell_type": "code",
   "execution_count": null,
   "metadata": {},
   "outputs": [],
   "source": []
  },
  {
   "cell_type": "code",
   "execution_count": null,
   "metadata": {},
   "outputs": [],
   "source": [
    "# Outlier facts"
   ]
  },
  {
   "cell_type": "code",
   "execution_count": 273,
   "metadata": {
    "scrolled": true
   },
   "outputs": [
    {
     "data": {
      "text/plain": [
       "4541"
      ]
     },
     "execution_count": 273,
     "metadata": {},
     "output_type": "execute_result"
    }
   ],
   "source": [
    "39644-35103 # There are 4541 outliers which will influence modelling of data, hence removed"
   ]
  },
  {
   "cell_type": "code",
   "execution_count": 524,
   "metadata": {},
   "outputs": [
    {
     "data": {
      "text/plain": [
       "11.454444556553325"
      ]
     },
     "execution_count": 524,
     "metadata": {},
     "output_type": "execute_result"
    }
   ],
   "source": [
    "(4541/39644)*100"
   ]
  },
  {
   "cell_type": "code",
   "execution_count": null,
   "metadata": {},
   "outputs": [],
   "source": [
    "# 11.45% of rows are outliers and should be dealt by subject/domain experts."
   ]
  },
  {
   "cell_type": "code",
   "execution_count": 525,
   "metadata": {},
   "outputs": [],
   "source": [
    "abc = pd.read_csv(\"C:\\\\Users\\\\SHIVA\\\\Downloads\\\\uv2towea1d\\\\OnlineNewsPopularity.csv\")"
   ]
  },
  {
   "cell_type": "code",
   "execution_count": 526,
   "metadata": {},
   "outputs": [
    {
     "data": {
      "text/plain": [
       "134606452"
      ]
     },
     "execution_count": 526,
     "metadata": {},
     "output_type": "execute_result"
    }
   ],
   "source": [
    "abc['shares'].sum()"
   ]
  },
  {
   "cell_type": "code",
   "execution_count": 529,
   "metadata": {},
   "outputs": [],
   "source": [
    "adf = abc[abc['shares']>5500]"
   ]
  },
  {
   "cell_type": "code",
   "execution_count": 531,
   "metadata": {},
   "outputs": [
    {
     "data": {
      "text/plain": [
       "75915196"
      ]
     },
     "execution_count": 531,
     "metadata": {},
     "output_type": "execute_result"
    }
   ],
   "source": [
    "adf['shares'].sum()"
   ]
  },
  {
   "cell_type": "code",
   "execution_count": 532,
   "metadata": {},
   "outputs": [
    {
     "data": {
      "text/plain": [
       "56.397887970481534"
      ]
     },
     "execution_count": 532,
     "metadata": {},
     "output_type": "execute_result"
    }
   ],
   "source": [
    "(75915196/134606452)*100"
   ]
  },
  {
   "cell_type": "code",
   "execution_count": null,
   "metadata": {},
   "outputs": [],
   "source": [
    "# 11.45% of rows which are outliers contains contain 56.39% percent of the total shares which company sees in its data."
   ]
  }
 ],
 "metadata": {
  "kernelspec": {
   "display_name": "Python 3",
   "language": "python",
   "name": "python3"
  },
  "language_info": {
   "codemirror_mode": {
    "name": "ipython",
    "version": 3
   },
   "file_extension": ".py",
   "mimetype": "text/x-python",
   "name": "python",
   "nbconvert_exporter": "python",
   "pygments_lexer": "ipython3",
   "version": "3.7.1"
  }
 },
 "nbformat": 4,
 "nbformat_minor": 2
}
